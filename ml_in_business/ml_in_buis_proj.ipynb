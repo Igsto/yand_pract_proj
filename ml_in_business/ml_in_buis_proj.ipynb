{
 "cells": [
  {
   "cell_type": "markdown",
   "metadata": {},
   "source": [
    "Привет! меня зовут Люман Аблаев. Сегодня я проверю твой проект.\n",
    "<br> Дальнейшее общение будет происходить на \"ты\" если это не вызывает никаких проблем.\n",
    "<br> Желательно реагировать на красные комментарии ('исправил', 'не понятно как исправить ошибку', ...)\n",
    "<br> Пожалуйста, не удаляй комментарии ревьюера, так как они повышают качество повторного ревью.\n",
    "\n",
    "Комментарии будут в <font color='green'>зеленой</font>, <font color='blue'>синей</font> или <font color='red'>красной</font> рамках:\n",
    "\n",
    "\n",
    "<div class=\"alert alert-block alert-success\">\n",
    "<b>Успех:</b> Если все сделано отлично\n",
    "</div>\n",
    "\n",
    "<div class=\"alert alert-block alert-info\">\n",
    "<b>Совет: </b> Если можно немного улучшить\n",
    "</div>\n",
    "\n",
    "<div class=\"alert alert-block alert-danger\">\n",
    "<b>Ошибка:</b> Если требуются исправления. Работа не может быть принята с красными комментариями.\n",
    "</div>\n",
    "\n",
    "-------------------\n",
    "\n",
    "Будет очень хорошо, если ты будешь помечать свои действия следующим образом:\n",
    "<div class=\"alert alert-block alert-warning\">\n",
    "<b>Комментарий студента:</b> ..\n",
    "</div>\n",
    "<div class=\"alert alert-block alert-warning\">\n",
    "<b>Изменения:</b> Были внесены следующие изменения ...\n",
    "</div>\n",
    "\n",
    "<font color='orange' style='font-size:24px; font-weight:bold'>Общее впечатление</font>\n",
    "* Спасибо за  качественную работу, было интересно ее проверять.\n",
    "- Я оставил некоторые советы надеюсь они будут полезными или интересными.\n",
    "\n",
    "- Есть небольшие недочеты, но думаю у тебя не составить труда их исправить\n",
    "- Жду обновленную работу!"
   ]
  },
  {
   "cell_type": "markdown",
   "metadata": {},
   "source": [
    "<font color='orange' style='font-size:24px; font-weight:bold'>Общее впечатление[2]</font>\n",
    "* Спасибо за оперативность\n",
    "- Недочеты исправлены - работа полностью корректна\n",
    "- Рад был быть полезен. Удачи в дальнейшем обучении!\n"
   ]
  },
  {
   "cell_type": "markdown",
   "metadata": {},
   "source": [
    "# Выбор локации для скважины"
   ]
  },
  {
   "cell_type": "markdown",
   "metadata": {},
   "source": [
    "Допустим, вы работаете в добывающей компании «ГлавРосГосНефть». Нужно решить, где бурить новую скважину.\n",
    "\n",
    "Вам предоставлены пробы нефти в трёх регионах: в каждом 10 000 месторождений, где измерили качество нефти и объём её запасов. Постройте модель машинного обучения, которая поможет определить регион, где добыча принесёт наибольшую прибыль. Проанализируйте возможную прибыль и риски техникой *Bootstrap.*\n",
    "\n",
    "Шаги для выбора локации:\n",
    "\n",
    "- В избранном регионе ищут месторождения, для каждого определяют значения признаков;\n",
    "- Строят модель и оценивают объём запасов;\n",
    "- Выбирают месторождения с самым высокими оценками значений. Количество месторождений зависит от бюджета компании и стоимости разработки одной скважины;\n",
    "- Прибыль равна суммарной прибыли отобранных месторождений."
   ]
  },
  {
   "cell_type": "code",
   "execution_count": 1,
   "metadata": {},
   "outputs": [],
   "source": [
    "#pandas для работы с датафреймами\n",
    "import pandas as pd\n",
    "#математические библиотеки\n",
    "import math\n",
    "import numpy as np\n",
    "#графики\n",
    "from scipy import stats as st\n",
    "import matplotlib.pyplot as plt\n",
    "import seaborn as sns\n",
    "#sklearn\n",
    "from sklearn.linear_model import LinearRegression\n",
    "from sklearn.model_selection import train_test_split\n",
    "from sklearn.preprocessing import StandardScaler \n",
    "\n",
    "from sklearn.metrics import (\n",
    "    mean_squared_error,\n",
    "    r2_score\n",
    ")\n",
    "\n",
    "from sklearn.pipeline import Pipeline\n",
    "\n",
    "from sklearn.impute import SimpleImputer"
   ]
  },
  {
   "cell_type": "markdown",
   "metadata": {},
   "source": [
    "Введём константы."
   ]
  },
  {
   "cell_type": "code",
   "execution_count": 2,
   "metadata": {},
   "outputs": [],
   "source": [
    "RANDOM_STATE = 42\n",
    "TEST_SIZE = 0.25"
   ]
  },
  {
   "cell_type": "markdown",
   "metadata": {},
   "source": [
    "\n",
    "\n",
    "<div class=\"alert alert-block alert-success\">\n",
    "<b>Успех:</b> Импорты и настройки на месте\n",
    "</div>\n"
   ]
  },
  {
   "cell_type": "markdown",
   "metadata": {},
   "source": [
    "## Загрузка и подготовка данных"
   ]
  },
  {
   "cell_type": "markdown",
   "metadata": {},
   "source": [
    "Создадим список, куда добавим датафреймы."
   ]
  },
  {
   "cell_type": "code",
   "execution_count": 3,
   "metadata": {},
   "outputs": [],
   "source": [
    "data = list()"
   ]
  },
  {
   "cell_type": "markdown",
   "metadata": {},
   "source": [
    "### Первый регион"
   ]
  },
  {
   "cell_type": "markdown",
   "metadata": {},
   "source": [
    "Загрузим данные для первого региона."
   ]
  },
  {
   "cell_type": "code",
   "execution_count": 4,
   "metadata": {},
   "outputs": [
    {
     "data": {
      "text/html": [
       "<div>\n",
       "<style scoped>\n",
       "    .dataframe tbody tr th:only-of-type {\n",
       "        vertical-align: middle;\n",
       "    }\n",
       "\n",
       "    .dataframe tbody tr th {\n",
       "        vertical-align: top;\n",
       "    }\n",
       "\n",
       "    .dataframe thead th {\n",
       "        text-align: right;\n",
       "    }\n",
       "</style>\n",
       "<table border=\"1\" class=\"dataframe\">\n",
       "  <thead>\n",
       "    <tr style=\"text-align: right;\">\n",
       "      <th></th>\n",
       "      <th>id</th>\n",
       "      <th>f0</th>\n",
       "      <th>f1</th>\n",
       "      <th>f2</th>\n",
       "      <th>product</th>\n",
       "    </tr>\n",
       "  </thead>\n",
       "  <tbody>\n",
       "    <tr>\n",
       "      <th>0</th>\n",
       "      <td>txEyH</td>\n",
       "      <td>0.705745</td>\n",
       "      <td>-0.497823</td>\n",
       "      <td>1.221170</td>\n",
       "      <td>105.280062</td>\n",
       "    </tr>\n",
       "    <tr>\n",
       "      <th>1</th>\n",
       "      <td>2acmU</td>\n",
       "      <td>1.334711</td>\n",
       "      <td>-0.340164</td>\n",
       "      <td>4.365080</td>\n",
       "      <td>73.037750</td>\n",
       "    </tr>\n",
       "    <tr>\n",
       "      <th>2</th>\n",
       "      <td>409Wp</td>\n",
       "      <td>1.022732</td>\n",
       "      <td>0.151990</td>\n",
       "      <td>1.419926</td>\n",
       "      <td>85.265647</td>\n",
       "    </tr>\n",
       "    <tr>\n",
       "      <th>3</th>\n",
       "      <td>iJLyR</td>\n",
       "      <td>-0.032172</td>\n",
       "      <td>0.139033</td>\n",
       "      <td>2.978566</td>\n",
       "      <td>168.620776</td>\n",
       "    </tr>\n",
       "    <tr>\n",
       "      <th>4</th>\n",
       "      <td>Xdl7t</td>\n",
       "      <td>1.988431</td>\n",
       "      <td>0.155413</td>\n",
       "      <td>4.751769</td>\n",
       "      <td>154.036647</td>\n",
       "    </tr>\n",
       "  </tbody>\n",
       "</table>\n",
       "</div>"
      ],
      "text/plain": [
       "      id        f0        f1        f2     product\n",
       "0  txEyH  0.705745 -0.497823  1.221170  105.280062\n",
       "1  2acmU  1.334711 -0.340164  4.365080   73.037750\n",
       "2  409Wp  1.022732  0.151990  1.419926   85.265647\n",
       "3  iJLyR -0.032172  0.139033  2.978566  168.620776\n",
       "4  Xdl7t  1.988431  0.155413  4.751769  154.036647"
      ]
     },
     "execution_count": 4,
     "metadata": {},
     "output_type": "execute_result"
    }
   ],
   "source": [
    "data.insert(0, pd.read_csv('/datasets/geo_data_0.csv'))\n",
    "data[0].head()"
   ]
  },
  {
   "cell_type": "markdown",
   "metadata": {},
   "source": [
    "Проверим методом info."
   ]
  },
  {
   "cell_type": "code",
   "execution_count": 5,
   "metadata": {},
   "outputs": [
    {
     "name": "stdout",
     "output_type": "stream",
     "text": [
      "<class 'pandas.core.frame.DataFrame'>\n",
      "RangeIndex: 100000 entries, 0 to 99999\n",
      "Data columns (total 5 columns):\n",
      " #   Column   Non-Null Count   Dtype  \n",
      "---  ------   --------------   -----  \n",
      " 0   id       100000 non-null  object \n",
      " 1   f0       100000 non-null  float64\n",
      " 2   f1       100000 non-null  float64\n",
      " 3   f2       100000 non-null  float64\n",
      " 4   product  100000 non-null  float64\n",
      "dtypes: float64(4), object(1)\n",
      "memory usage: 3.8+ MB\n"
     ]
    }
   ],
   "source": [
    "data[0].info()"
   ]
  },
  {
   "cell_type": "markdown",
   "metadata": {},
   "source": [
    "Найдём дубликаты."
   ]
  },
  {
   "cell_type": "code",
   "execution_count": 6,
   "metadata": {},
   "outputs": [
    {
     "data": {
      "text/plain": [
       "0"
      ]
     },
     "execution_count": 6,
     "metadata": {},
     "output_type": "execute_result"
    }
   ],
   "source": [
    "data[0].duplicated().sum()"
   ]
  },
  {
   "cell_type": "markdown",
   "metadata": {},
   "source": [
    "Явных дубликатов нет."
   ]
  },
  {
   "cell_type": "markdown",
   "metadata": {},
   "source": [
    "Найдём дубликаты в столбце id."
   ]
  },
  {
   "cell_type": "code",
   "execution_count": 7,
   "metadata": {},
   "outputs": [
    {
     "data": {
      "text/plain": [
       "10"
      ]
     },
     "execution_count": 7,
     "metadata": {},
     "output_type": "execute_result"
    }
   ],
   "source": [
    "data[0].duplicated(subset=['id']).sum()"
   ]
  },
  {
   "cell_type": "markdown",
   "metadata": {},
   "source": [
    "Проанализируем значения столбцов у всех дубликатов."
   ]
  },
  {
   "cell_type": "code",
   "execution_count": 8,
   "metadata": {},
   "outputs": [
    {
     "data": {
      "text/html": [
       "<div>\n",
       "<style scoped>\n",
       "    .dataframe tbody tr th:only-of-type {\n",
       "        vertical-align: middle;\n",
       "    }\n",
       "\n",
       "    .dataframe tbody tr th {\n",
       "        vertical-align: top;\n",
       "    }\n",
       "\n",
       "    .dataframe thead th {\n",
       "        text-align: right;\n",
       "    }\n",
       "</style>\n",
       "<table border=\"1\" class=\"dataframe\">\n",
       "  <thead>\n",
       "    <tr style=\"text-align: right;\">\n",
       "      <th></th>\n",
       "      <th>id</th>\n",
       "      <th>f0</th>\n",
       "      <th>f1</th>\n",
       "      <th>f2</th>\n",
       "      <th>product</th>\n",
       "    </tr>\n",
       "  </thead>\n",
       "  <tbody>\n",
       "    <tr>\n",
       "      <th>66136</th>\n",
       "      <td>74z30</td>\n",
       "      <td>1.084962</td>\n",
       "      <td>-0.312358</td>\n",
       "      <td>6.990771</td>\n",
       "      <td>127.643327</td>\n",
       "    </tr>\n",
       "    <tr>\n",
       "      <th>64022</th>\n",
       "      <td>74z30</td>\n",
       "      <td>0.741456</td>\n",
       "      <td>0.459229</td>\n",
       "      <td>5.153109</td>\n",
       "      <td>140.771492</td>\n",
       "    </tr>\n",
       "    <tr>\n",
       "      <th>51970</th>\n",
       "      <td>A5aEY</td>\n",
       "      <td>-0.180335</td>\n",
       "      <td>0.935548</td>\n",
       "      <td>-2.094773</td>\n",
       "      <td>33.020205</td>\n",
       "    </tr>\n",
       "    <tr>\n",
       "      <th>3389</th>\n",
       "      <td>A5aEY</td>\n",
       "      <td>-0.039949</td>\n",
       "      <td>0.156872</td>\n",
       "      <td>0.209861</td>\n",
       "      <td>89.249364</td>\n",
       "    </tr>\n",
       "    <tr>\n",
       "      <th>69163</th>\n",
       "      <td>AGS9W</td>\n",
       "      <td>-0.933795</td>\n",
       "      <td>0.116194</td>\n",
       "      <td>-3.655896</td>\n",
       "      <td>19.230453</td>\n",
       "    </tr>\n",
       "    <tr>\n",
       "      <th>42529</th>\n",
       "      <td>AGS9W</td>\n",
       "      <td>1.454747</td>\n",
       "      <td>-0.479651</td>\n",
       "      <td>0.683380</td>\n",
       "      <td>126.370504</td>\n",
       "    </tr>\n",
       "    <tr>\n",
       "      <th>931</th>\n",
       "      <td>HZww2</td>\n",
       "      <td>0.755284</td>\n",
       "      <td>0.368511</td>\n",
       "      <td>1.863211</td>\n",
       "      <td>30.681774</td>\n",
       "    </tr>\n",
       "    <tr>\n",
       "      <th>7530</th>\n",
       "      <td>HZww2</td>\n",
       "      <td>1.061194</td>\n",
       "      <td>-0.373969</td>\n",
       "      <td>10.430210</td>\n",
       "      <td>158.828695</td>\n",
       "    </tr>\n",
       "    <tr>\n",
       "      <th>63593</th>\n",
       "      <td>QcMuo</td>\n",
       "      <td>0.635635</td>\n",
       "      <td>-0.473422</td>\n",
       "      <td>0.862670</td>\n",
       "      <td>64.578675</td>\n",
       "    </tr>\n",
       "    <tr>\n",
       "      <th>1949</th>\n",
       "      <td>QcMuo</td>\n",
       "      <td>0.506563</td>\n",
       "      <td>-0.323775</td>\n",
       "      <td>-2.215583</td>\n",
       "      <td>75.496502</td>\n",
       "    </tr>\n",
       "    <tr>\n",
       "      <th>75715</th>\n",
       "      <td>Tdehs</td>\n",
       "      <td>0.112079</td>\n",
       "      <td>0.430296</td>\n",
       "      <td>3.218993</td>\n",
       "      <td>60.964018</td>\n",
       "    </tr>\n",
       "    <tr>\n",
       "      <th>21426</th>\n",
       "      <td>Tdehs</td>\n",
       "      <td>0.829407</td>\n",
       "      <td>0.298807</td>\n",
       "      <td>-0.049563</td>\n",
       "      <td>96.035308</td>\n",
       "    </tr>\n",
       "    <tr>\n",
       "      <th>92341</th>\n",
       "      <td>TtcGQ</td>\n",
       "      <td>0.110711</td>\n",
       "      <td>1.022689</td>\n",
       "      <td>0.911381</td>\n",
       "      <td>101.318008</td>\n",
       "    </tr>\n",
       "    <tr>\n",
       "      <th>60140</th>\n",
       "      <td>TtcGQ</td>\n",
       "      <td>0.569276</td>\n",
       "      <td>-0.104876</td>\n",
       "      <td>6.440215</td>\n",
       "      <td>85.350186</td>\n",
       "    </tr>\n",
       "    <tr>\n",
       "      <th>89582</th>\n",
       "      <td>bsk9y</td>\n",
       "      <td>0.398908</td>\n",
       "      <td>-0.400253</td>\n",
       "      <td>10.122376</td>\n",
       "      <td>163.433078</td>\n",
       "    </tr>\n",
       "    <tr>\n",
       "      <th>97785</th>\n",
       "      <td>bsk9y</td>\n",
       "      <td>0.378429</td>\n",
       "      <td>0.005837</td>\n",
       "      <td>0.160827</td>\n",
       "      <td>160.637302</td>\n",
       "    </tr>\n",
       "    <tr>\n",
       "      <th>41724</th>\n",
       "      <td>bxg6G</td>\n",
       "      <td>-0.823752</td>\n",
       "      <td>0.546319</td>\n",
       "      <td>3.630479</td>\n",
       "      <td>93.007798</td>\n",
       "    </tr>\n",
       "    <tr>\n",
       "      <th>1364</th>\n",
       "      <td>bxg6G</td>\n",
       "      <td>0.411645</td>\n",
       "      <td>0.856830</td>\n",
       "      <td>-3.653440</td>\n",
       "      <td>73.604260</td>\n",
       "    </tr>\n",
       "    <tr>\n",
       "      <th>16633</th>\n",
       "      <td>fiKDv</td>\n",
       "      <td>0.157341</td>\n",
       "      <td>1.028359</td>\n",
       "      <td>5.585586</td>\n",
       "      <td>95.817889</td>\n",
       "    </tr>\n",
       "    <tr>\n",
       "      <th>90815</th>\n",
       "      <td>fiKDv</td>\n",
       "      <td>0.049883</td>\n",
       "      <td>0.841313</td>\n",
       "      <td>6.394613</td>\n",
       "      <td>137.346586</td>\n",
       "    </tr>\n",
       "  </tbody>\n",
       "</table>\n",
       "</div>"
      ],
      "text/plain": [
       "          id        f0        f1         f2     product\n",
       "66136  74z30  1.084962 -0.312358   6.990771  127.643327\n",
       "64022  74z30  0.741456  0.459229   5.153109  140.771492\n",
       "51970  A5aEY -0.180335  0.935548  -2.094773   33.020205\n",
       "3389   A5aEY -0.039949  0.156872   0.209861   89.249364\n",
       "69163  AGS9W -0.933795  0.116194  -3.655896   19.230453\n",
       "42529  AGS9W  1.454747 -0.479651   0.683380  126.370504\n",
       "931    HZww2  0.755284  0.368511   1.863211   30.681774\n",
       "7530   HZww2  1.061194 -0.373969  10.430210  158.828695\n",
       "63593  QcMuo  0.635635 -0.473422   0.862670   64.578675\n",
       "1949   QcMuo  0.506563 -0.323775  -2.215583   75.496502\n",
       "75715  Tdehs  0.112079  0.430296   3.218993   60.964018\n",
       "21426  Tdehs  0.829407  0.298807  -0.049563   96.035308\n",
       "92341  TtcGQ  0.110711  1.022689   0.911381  101.318008\n",
       "60140  TtcGQ  0.569276 -0.104876   6.440215   85.350186\n",
       "89582  bsk9y  0.398908 -0.400253  10.122376  163.433078\n",
       "97785  bsk9y  0.378429  0.005837   0.160827  160.637302\n",
       "41724  bxg6G -0.823752  0.546319   3.630479   93.007798\n",
       "1364   bxg6G  0.411645  0.856830  -3.653440   73.604260\n",
       "16633  fiKDv  0.157341  1.028359   5.585586   95.817889\n",
       "90815  fiKDv  0.049883  0.841313   6.394613  137.346586"
      ]
     },
     "execution_count": 8,
     "metadata": {},
     "output_type": "execute_result"
    }
   ],
   "source": [
    "data[0][data[0].duplicated(subset=['id'], keep=False)].sort_values(by='id')"
   ]
  },
  {
   "cell_type": "markdown",
   "metadata": {},
   "source": [
    "Значения f0, f1, f2 и product сильно различаются для каждого дубликата, невозможно понять какие именно значения истинные. Таких столбцов всего 20, это мало на фоне 100000 скважен, следовательно от дубликатов можно избавиться."
   ]
  },
  {
   "cell_type": "code",
   "execution_count": 9,
   "metadata": {},
   "outputs": [
    {
     "name": "stdout",
     "output_type": "stream",
     "text": [
      "<class 'pandas.core.frame.DataFrame'>\n",
      "RangeIndex: 99980 entries, 0 to 99979\n",
      "Data columns (total 5 columns):\n",
      " #   Column   Non-Null Count  Dtype  \n",
      "---  ------   --------------  -----  \n",
      " 0   id       99980 non-null  object \n",
      " 1   f0       99980 non-null  float64\n",
      " 2   f1       99980 non-null  float64\n",
      " 3   f2       99980 non-null  float64\n",
      " 4   product  99980 non-null  float64\n",
      "dtypes: float64(4), object(1)\n",
      "memory usage: 3.8+ MB\n"
     ]
    }
   ],
   "source": [
    "data[0] = data[0].drop_duplicates(subset=['id'], keep=False).reset_index(drop=True)\n",
    "data[0].info()"
   ]
  },
  {
   "cell_type": "markdown",
   "metadata": {},
   "source": [
    "f0, f1 и f2 придётся масштабировать, аномалий не обнаружено."
   ]
  },
  {
   "cell_type": "markdown",
   "metadata": {},
   "source": [
    "### Второй регион"
   ]
  },
  {
   "cell_type": "markdown",
   "metadata": {},
   "source": [
    "Загрузим данные."
   ]
  },
  {
   "cell_type": "code",
   "execution_count": 10,
   "metadata": {},
   "outputs": [
    {
     "data": {
      "text/html": [
       "<div>\n",
       "<style scoped>\n",
       "    .dataframe tbody tr th:only-of-type {\n",
       "        vertical-align: middle;\n",
       "    }\n",
       "\n",
       "    .dataframe tbody tr th {\n",
       "        vertical-align: top;\n",
       "    }\n",
       "\n",
       "    .dataframe thead th {\n",
       "        text-align: right;\n",
       "    }\n",
       "</style>\n",
       "<table border=\"1\" class=\"dataframe\">\n",
       "  <thead>\n",
       "    <tr style=\"text-align: right;\">\n",
       "      <th></th>\n",
       "      <th>id</th>\n",
       "      <th>f0</th>\n",
       "      <th>f1</th>\n",
       "      <th>f2</th>\n",
       "      <th>product</th>\n",
       "    </tr>\n",
       "  </thead>\n",
       "  <tbody>\n",
       "    <tr>\n",
       "      <th>0</th>\n",
       "      <td>kBEdx</td>\n",
       "      <td>-15.001348</td>\n",
       "      <td>-8.276000</td>\n",
       "      <td>-0.005876</td>\n",
       "      <td>3.179103</td>\n",
       "    </tr>\n",
       "    <tr>\n",
       "      <th>1</th>\n",
       "      <td>62mP7</td>\n",
       "      <td>14.272088</td>\n",
       "      <td>-3.475083</td>\n",
       "      <td>0.999183</td>\n",
       "      <td>26.953261</td>\n",
       "    </tr>\n",
       "    <tr>\n",
       "      <th>2</th>\n",
       "      <td>vyE1P</td>\n",
       "      <td>6.263187</td>\n",
       "      <td>-5.948386</td>\n",
       "      <td>5.001160</td>\n",
       "      <td>134.766305</td>\n",
       "    </tr>\n",
       "    <tr>\n",
       "      <th>3</th>\n",
       "      <td>KcrkZ</td>\n",
       "      <td>-13.081196</td>\n",
       "      <td>-11.506057</td>\n",
       "      <td>4.999415</td>\n",
       "      <td>137.945408</td>\n",
       "    </tr>\n",
       "    <tr>\n",
       "      <th>4</th>\n",
       "      <td>AHL4O</td>\n",
       "      <td>12.702195</td>\n",
       "      <td>-8.147433</td>\n",
       "      <td>5.004363</td>\n",
       "      <td>134.766305</td>\n",
       "    </tr>\n",
       "  </tbody>\n",
       "</table>\n",
       "</div>"
      ],
      "text/plain": [
       "      id         f0         f1        f2     product\n",
       "0  kBEdx -15.001348  -8.276000 -0.005876    3.179103\n",
       "1  62mP7  14.272088  -3.475083  0.999183   26.953261\n",
       "2  vyE1P   6.263187  -5.948386  5.001160  134.766305\n",
       "3  KcrkZ -13.081196 -11.506057  4.999415  137.945408\n",
       "4  AHL4O  12.702195  -8.147433  5.004363  134.766305"
      ]
     },
     "execution_count": 10,
     "metadata": {},
     "output_type": "execute_result"
    }
   ],
   "source": [
    "data.insert(1, pd.read_csv('/datasets/geo_data_1.csv'))\n",
    "data[1].head()"
   ]
  },
  {
   "cell_type": "markdown",
   "metadata": {},
   "source": [
    "Рассмотрим методом info."
   ]
  },
  {
   "cell_type": "code",
   "execution_count": 11,
   "metadata": {},
   "outputs": [
    {
     "name": "stdout",
     "output_type": "stream",
     "text": [
      "<class 'pandas.core.frame.DataFrame'>\n",
      "RangeIndex: 100000 entries, 0 to 99999\n",
      "Data columns (total 5 columns):\n",
      " #   Column   Non-Null Count   Dtype  \n",
      "---  ------   --------------   -----  \n",
      " 0   id       100000 non-null  object \n",
      " 1   f0       100000 non-null  float64\n",
      " 2   f1       100000 non-null  float64\n",
      " 3   f2       100000 non-null  float64\n",
      " 4   product  100000 non-null  float64\n",
      "dtypes: float64(4), object(1)\n",
      "memory usage: 3.8+ MB\n"
     ]
    }
   ],
   "source": [
    "data[1].info()"
   ]
  },
  {
   "cell_type": "markdown",
   "metadata": {},
   "source": [
    "Проверим на дубликаты."
   ]
  },
  {
   "cell_type": "code",
   "execution_count": 12,
   "metadata": {},
   "outputs": [
    {
     "data": {
      "text/plain": [
       "0"
      ]
     },
     "execution_count": 12,
     "metadata": {},
     "output_type": "execute_result"
    }
   ],
   "source": [
    "data[1].duplicated().sum()"
   ]
  },
  {
   "cell_type": "markdown",
   "metadata": {},
   "source": [
    "Явных дубликатов нет."
   ]
  },
  {
   "cell_type": "markdown",
   "metadata": {},
   "source": [
    "Проверим на дубликаты в столбце id"
   ]
  },
  {
   "cell_type": "code",
   "execution_count": 13,
   "metadata": {},
   "outputs": [
    {
     "data": {
      "text/plain": [
       "4"
      ]
     },
     "execution_count": 13,
     "metadata": {},
     "output_type": "execute_result"
    }
   ],
   "source": [
    "data[1].duplicated(subset=['id']).sum()"
   ]
  },
  {
   "cell_type": "markdown",
   "metadata": {},
   "source": [
    "Поступим с дубликатами аналогично действиям выше."
   ]
  },
  {
   "cell_type": "code",
   "execution_count": 14,
   "metadata": {},
   "outputs": [
    {
     "data": {
      "text/html": [
       "<div>\n",
       "<style scoped>\n",
       "    .dataframe tbody tr th:only-of-type {\n",
       "        vertical-align: middle;\n",
       "    }\n",
       "\n",
       "    .dataframe tbody tr th {\n",
       "        vertical-align: top;\n",
       "    }\n",
       "\n",
       "    .dataframe thead th {\n",
       "        text-align: right;\n",
       "    }\n",
       "</style>\n",
       "<table border=\"1\" class=\"dataframe\">\n",
       "  <thead>\n",
       "    <tr style=\"text-align: right;\">\n",
       "      <th></th>\n",
       "      <th>id</th>\n",
       "      <th>f0</th>\n",
       "      <th>f1</th>\n",
       "      <th>f2</th>\n",
       "      <th>product</th>\n",
       "    </tr>\n",
       "  </thead>\n",
       "  <tbody>\n",
       "    <tr>\n",
       "      <th>5849</th>\n",
       "      <td>5ltQ6</td>\n",
       "      <td>-3.435401</td>\n",
       "      <td>-12.296043</td>\n",
       "      <td>1.999796</td>\n",
       "      <td>57.085625</td>\n",
       "    </tr>\n",
       "    <tr>\n",
       "      <th>84461</th>\n",
       "      <td>5ltQ6</td>\n",
       "      <td>18.213839</td>\n",
       "      <td>2.191999</td>\n",
       "      <td>3.993869</td>\n",
       "      <td>107.813044</td>\n",
       "    </tr>\n",
       "    <tr>\n",
       "      <th>1305</th>\n",
       "      <td>LHZR0</td>\n",
       "      <td>11.170835</td>\n",
       "      <td>-1.945066</td>\n",
       "      <td>3.002872</td>\n",
       "      <td>80.859783</td>\n",
       "    </tr>\n",
       "    <tr>\n",
       "      <th>41906</th>\n",
       "      <td>LHZR0</td>\n",
       "      <td>-8.989672</td>\n",
       "      <td>-4.286607</td>\n",
       "      <td>2.009139</td>\n",
       "      <td>57.085625</td>\n",
       "    </tr>\n",
       "    <tr>\n",
       "      <th>2721</th>\n",
       "      <td>bfPNe</td>\n",
       "      <td>-9.494442</td>\n",
       "      <td>-5.463692</td>\n",
       "      <td>4.006042</td>\n",
       "      <td>110.992147</td>\n",
       "    </tr>\n",
       "    <tr>\n",
       "      <th>82178</th>\n",
       "      <td>bfPNe</td>\n",
       "      <td>-6.202799</td>\n",
       "      <td>-4.820045</td>\n",
       "      <td>2.995107</td>\n",
       "      <td>84.038886</td>\n",
       "    </tr>\n",
       "    <tr>\n",
       "      <th>47591</th>\n",
       "      <td>wt4Uk</td>\n",
       "      <td>-9.091098</td>\n",
       "      <td>-8.109279</td>\n",
       "      <td>-0.002314</td>\n",
       "      <td>3.179103</td>\n",
       "    </tr>\n",
       "    <tr>\n",
       "      <th>82873</th>\n",
       "      <td>wt4Uk</td>\n",
       "      <td>10.259972</td>\n",
       "      <td>-9.376355</td>\n",
       "      <td>4.994297</td>\n",
       "      <td>134.766305</td>\n",
       "    </tr>\n",
       "  </tbody>\n",
       "</table>\n",
       "</div>"
      ],
      "text/plain": [
       "          id         f0         f1        f2     product\n",
       "5849   5ltQ6  -3.435401 -12.296043  1.999796   57.085625\n",
       "84461  5ltQ6  18.213839   2.191999  3.993869  107.813044\n",
       "1305   LHZR0  11.170835  -1.945066  3.002872   80.859783\n",
       "41906  LHZR0  -8.989672  -4.286607  2.009139   57.085625\n",
       "2721   bfPNe  -9.494442  -5.463692  4.006042  110.992147\n",
       "82178  bfPNe  -6.202799  -4.820045  2.995107   84.038886\n",
       "47591  wt4Uk  -9.091098  -8.109279 -0.002314    3.179103\n",
       "82873  wt4Uk  10.259972  -9.376355  4.994297  134.766305"
      ]
     },
     "execution_count": 14,
     "metadata": {},
     "output_type": "execute_result"
    }
   ],
   "source": [
    "data[1][data[1].duplicated(subset=['id'], keep=False)].sort_values(by='id')"
   ]
  },
  {
   "cell_type": "markdown",
   "metadata": {},
   "source": [
    "Дубликатов относительно всей таблицы мало, избавимся от них."
   ]
  },
  {
   "cell_type": "code",
   "execution_count": 15,
   "metadata": {},
   "outputs": [
    {
     "name": "stdout",
     "output_type": "stream",
     "text": [
      "<class 'pandas.core.frame.DataFrame'>\n",
      "RangeIndex: 99992 entries, 0 to 99991\n",
      "Data columns (total 5 columns):\n",
      " #   Column   Non-Null Count  Dtype  \n",
      "---  ------   --------------  -----  \n",
      " 0   id       99992 non-null  object \n",
      " 1   f0       99992 non-null  float64\n",
      " 2   f1       99992 non-null  float64\n",
      " 3   f2       99992 non-null  float64\n",
      " 4   product  99992 non-null  float64\n",
      "dtypes: float64(4), object(1)\n",
      "memory usage: 3.8+ MB\n"
     ]
    }
   ],
   "source": [
    "data[1] = data[1].drop_duplicates(subset=['id'], keep=False).reset_index(drop=True)\n",
    "data[1].info()"
   ]
  },
  {
   "cell_type": "markdown",
   "metadata": {},
   "source": [
    "### Третий регион"
   ]
  },
  {
   "cell_type": "markdown",
   "metadata": {},
   "source": [
    "Загрузим данные."
   ]
  },
  {
   "cell_type": "code",
   "execution_count": 16,
   "metadata": {},
   "outputs": [
    {
     "data": {
      "text/html": [
       "<div>\n",
       "<style scoped>\n",
       "    .dataframe tbody tr th:only-of-type {\n",
       "        vertical-align: middle;\n",
       "    }\n",
       "\n",
       "    .dataframe tbody tr th {\n",
       "        vertical-align: top;\n",
       "    }\n",
       "\n",
       "    .dataframe thead th {\n",
       "        text-align: right;\n",
       "    }\n",
       "</style>\n",
       "<table border=\"1\" class=\"dataframe\">\n",
       "  <thead>\n",
       "    <tr style=\"text-align: right;\">\n",
       "      <th></th>\n",
       "      <th>id</th>\n",
       "      <th>f0</th>\n",
       "      <th>f1</th>\n",
       "      <th>f2</th>\n",
       "      <th>product</th>\n",
       "    </tr>\n",
       "  </thead>\n",
       "  <tbody>\n",
       "    <tr>\n",
       "      <th>0</th>\n",
       "      <td>fwXo0</td>\n",
       "      <td>-1.146987</td>\n",
       "      <td>0.963328</td>\n",
       "      <td>-0.828965</td>\n",
       "      <td>27.758673</td>\n",
       "    </tr>\n",
       "    <tr>\n",
       "      <th>1</th>\n",
       "      <td>WJtFt</td>\n",
       "      <td>0.262778</td>\n",
       "      <td>0.269839</td>\n",
       "      <td>-2.530187</td>\n",
       "      <td>56.069697</td>\n",
       "    </tr>\n",
       "    <tr>\n",
       "      <th>2</th>\n",
       "      <td>ovLUW</td>\n",
       "      <td>0.194587</td>\n",
       "      <td>0.289035</td>\n",
       "      <td>-5.586433</td>\n",
       "      <td>62.871910</td>\n",
       "    </tr>\n",
       "    <tr>\n",
       "      <th>3</th>\n",
       "      <td>q6cA6</td>\n",
       "      <td>2.236060</td>\n",
       "      <td>-0.553760</td>\n",
       "      <td>0.930038</td>\n",
       "      <td>114.572842</td>\n",
       "    </tr>\n",
       "    <tr>\n",
       "      <th>4</th>\n",
       "      <td>WPMUX</td>\n",
       "      <td>-0.515993</td>\n",
       "      <td>1.716266</td>\n",
       "      <td>5.899011</td>\n",
       "      <td>149.600746</td>\n",
       "    </tr>\n",
       "  </tbody>\n",
       "</table>\n",
       "</div>"
      ],
      "text/plain": [
       "      id        f0        f1        f2     product\n",
       "0  fwXo0 -1.146987  0.963328 -0.828965   27.758673\n",
       "1  WJtFt  0.262778  0.269839 -2.530187   56.069697\n",
       "2  ovLUW  0.194587  0.289035 -5.586433   62.871910\n",
       "3  q6cA6  2.236060 -0.553760  0.930038  114.572842\n",
       "4  WPMUX -0.515993  1.716266  5.899011  149.600746"
      ]
     },
     "execution_count": 16,
     "metadata": {},
     "output_type": "execute_result"
    }
   ],
   "source": [
    "data.insert(2, pd.read_csv('/datasets/geo_data_2.csv'))\n",
    "data[2].head()"
   ]
  },
  {
   "cell_type": "markdown",
   "metadata": {},
   "source": [
    "Рассмотрим методом info."
   ]
  },
  {
   "cell_type": "code",
   "execution_count": 17,
   "metadata": {},
   "outputs": [
    {
     "name": "stdout",
     "output_type": "stream",
     "text": [
      "<class 'pandas.core.frame.DataFrame'>\n",
      "RangeIndex: 100000 entries, 0 to 99999\n",
      "Data columns (total 5 columns):\n",
      " #   Column   Non-Null Count   Dtype  \n",
      "---  ------   --------------   -----  \n",
      " 0   id       100000 non-null  object \n",
      " 1   f0       100000 non-null  float64\n",
      " 2   f1       100000 non-null  float64\n",
      " 3   f2       100000 non-null  float64\n",
      " 4   product  100000 non-null  float64\n",
      "dtypes: float64(4), object(1)\n",
      "memory usage: 3.8+ MB\n"
     ]
    }
   ],
   "source": [
    "data[2].info()"
   ]
  },
  {
   "cell_type": "markdown",
   "metadata": {},
   "source": [
    "Проверим на дубликаты."
   ]
  },
  {
   "cell_type": "code",
   "execution_count": 18,
   "metadata": {},
   "outputs": [
    {
     "data": {
      "text/plain": [
       "0"
      ]
     },
     "execution_count": 18,
     "metadata": {},
     "output_type": "execute_result"
    }
   ],
   "source": [
    "data[2].duplicated().sum()"
   ]
  },
  {
   "cell_type": "markdown",
   "metadata": {},
   "source": [
    "Явных дубликатов нет."
   ]
  },
  {
   "cell_type": "markdown",
   "metadata": {},
   "source": [
    "Проверим в столбце id."
   ]
  },
  {
   "cell_type": "code",
   "execution_count": 19,
   "metadata": {},
   "outputs": [
    {
     "data": {
      "text/plain": [
       "4"
      ]
     },
     "execution_count": 19,
     "metadata": {},
     "output_type": "execute_result"
    }
   ],
   "source": [
    "data[2].duplicated(subset=['id']).sum()"
   ]
  },
  {
   "cell_type": "code",
   "execution_count": 20,
   "metadata": {},
   "outputs": [
    {
     "data": {
      "text/html": [
       "<div>\n",
       "<style scoped>\n",
       "    .dataframe tbody tr th:only-of-type {\n",
       "        vertical-align: middle;\n",
       "    }\n",
       "\n",
       "    .dataframe tbody tr th {\n",
       "        vertical-align: top;\n",
       "    }\n",
       "\n",
       "    .dataframe thead th {\n",
       "        text-align: right;\n",
       "    }\n",
       "</style>\n",
       "<table border=\"1\" class=\"dataframe\">\n",
       "  <thead>\n",
       "    <tr style=\"text-align: right;\">\n",
       "      <th></th>\n",
       "      <th>id</th>\n",
       "      <th>f0</th>\n",
       "      <th>f1</th>\n",
       "      <th>f2</th>\n",
       "      <th>product</th>\n",
       "    </tr>\n",
       "  </thead>\n",
       "  <tbody>\n",
       "    <tr>\n",
       "      <th>45404</th>\n",
       "      <td>KUPhW</td>\n",
       "      <td>0.231846</td>\n",
       "      <td>-1.698941</td>\n",
       "      <td>4.990775</td>\n",
       "      <td>11.716299</td>\n",
       "    </tr>\n",
       "    <tr>\n",
       "      <th>55967</th>\n",
       "      <td>KUPhW</td>\n",
       "      <td>1.211150</td>\n",
       "      <td>3.176408</td>\n",
       "      <td>5.543540</td>\n",
       "      <td>132.831802</td>\n",
       "    </tr>\n",
       "    <tr>\n",
       "      <th>11449</th>\n",
       "      <td>VF7Jo</td>\n",
       "      <td>2.122656</td>\n",
       "      <td>-0.858275</td>\n",
       "      <td>5.746001</td>\n",
       "      <td>181.716817</td>\n",
       "    </tr>\n",
       "    <tr>\n",
       "      <th>49564</th>\n",
       "      <td>VF7Jo</td>\n",
       "      <td>-0.883115</td>\n",
       "      <td>0.560537</td>\n",
       "      <td>0.723601</td>\n",
       "      <td>136.233420</td>\n",
       "    </tr>\n",
       "    <tr>\n",
       "      <th>44378</th>\n",
       "      <td>Vcm5J</td>\n",
       "      <td>-1.229484</td>\n",
       "      <td>-2.439204</td>\n",
       "      <td>1.222909</td>\n",
       "      <td>137.968290</td>\n",
       "    </tr>\n",
       "    <tr>\n",
       "      <th>95090</th>\n",
       "      <td>Vcm5J</td>\n",
       "      <td>2.587702</td>\n",
       "      <td>1.986875</td>\n",
       "      <td>2.482245</td>\n",
       "      <td>92.327572</td>\n",
       "    </tr>\n",
       "    <tr>\n",
       "      <th>28039</th>\n",
       "      <td>xCHr8</td>\n",
       "      <td>1.633027</td>\n",
       "      <td>0.368135</td>\n",
       "      <td>-2.378367</td>\n",
       "      <td>6.120525</td>\n",
       "    </tr>\n",
       "    <tr>\n",
       "      <th>43233</th>\n",
       "      <td>xCHr8</td>\n",
       "      <td>-0.847066</td>\n",
       "      <td>2.101796</td>\n",
       "      <td>5.597130</td>\n",
       "      <td>184.388641</td>\n",
       "    </tr>\n",
       "  </tbody>\n",
       "</table>\n",
       "</div>"
      ],
      "text/plain": [
       "          id        f0        f1        f2     product\n",
       "45404  KUPhW  0.231846 -1.698941  4.990775   11.716299\n",
       "55967  KUPhW  1.211150  3.176408  5.543540  132.831802\n",
       "11449  VF7Jo  2.122656 -0.858275  5.746001  181.716817\n",
       "49564  VF7Jo -0.883115  0.560537  0.723601  136.233420\n",
       "44378  Vcm5J -1.229484 -2.439204  1.222909  137.968290\n",
       "95090  Vcm5J  2.587702  1.986875  2.482245   92.327572\n",
       "28039  xCHr8  1.633027  0.368135 -2.378367    6.120525\n",
       "43233  xCHr8 -0.847066  2.101796  5.597130  184.388641"
      ]
     },
     "execution_count": 20,
     "metadata": {},
     "output_type": "execute_result"
    }
   ],
   "source": [
    "data[2][data[2].duplicated(subset=['id'], keep=False)].sort_values(by='id')"
   ]
  },
  {
   "cell_type": "markdown",
   "metadata": {},
   "source": [
    "Избавимся от дубликатов."
   ]
  },
  {
   "cell_type": "code",
   "execution_count": 21,
   "metadata": {},
   "outputs": [
    {
     "name": "stdout",
     "output_type": "stream",
     "text": [
      "<class 'pandas.core.frame.DataFrame'>\n",
      "RangeIndex: 99992 entries, 0 to 99991\n",
      "Data columns (total 5 columns):\n",
      " #   Column   Non-Null Count  Dtype  \n",
      "---  ------   --------------  -----  \n",
      " 0   id       99992 non-null  object \n",
      " 1   f0       99992 non-null  float64\n",
      " 2   f1       99992 non-null  float64\n",
      " 3   f2       99992 non-null  float64\n",
      " 4   product  99992 non-null  float64\n",
      "dtypes: float64(4), object(1)\n",
      "memory usage: 3.8+ MB\n"
     ]
    }
   ],
   "source": [
    "data[2] = data[2].drop_duplicates(subset=['id'], keep=False).reset_index(drop=True)\n",
    "data[2].info()"
   ]
  },
  {
   "cell_type": "markdown",
   "metadata": {},
   "source": [
    "Построим гистограммы."
   ]
  },
  {
   "cell_type": "markdown",
   "metadata": {},
   "source": [
    "Аномалии на гистограммах не обнаружены, значения f0, f1 и f2 необходимо масштабировать."
   ]
  },
  {
   "cell_type": "markdown",
   "metadata": {},
   "source": [
    "\n",
    "<div class=\"alert alert-block alert-success\">\n",
    "<b>Успех:</b> Данные осмотрены, но можно было бы еще как минимум изучить корреляции, так как мы планируем использовать линейные модели, а для них это важно. \n",
    "</div>\n",
    "<div class=\"alert alert-block alert-info\">\n",
    "<b>Совет:</b>  Советую обратить внимание на библиотеки sweetviz и ydata_profiling помогут в проведении более тщательного EDA анализа. Исследовательский анализ можно делать и с помощью ручного вызова функций дефолтных библиотек. Данные библиотеки хороши для максимизации комфорта презентации результатов анализа бизнес-пользователям.  \n",
    "\n",
    "Очень просты в использоовании, на вход кладется датафрейм: ydata_profiling.ProfileReport(df) \n",
    "</div>"
   ]
  },
  {
   "cell_type": "markdown",
   "metadata": {},
   "source": [
    "## Обучение и проверка модели"
   ]
  },
  {
   "cell_type": "markdown",
   "metadata": {},
   "source": [
    "Создадим функцию для масштабирования"
   ]
  },
  {
   "cell_type": "markdown",
   "metadata": {},
   "source": [
    "Напишем цикл для обучение моделей на трёх датафреймах."
   ]
  },
  {
   "cell_type": "code",
   "execution_count": 22,
   "metadata": {},
   "outputs": [],
   "source": [
    "models = list() #список с моделями линейной регрессии\n",
    "y_true_valid = list() #список с правильными ответами на валидационной выборке\n",
    "predicts = list() #список с предсказаниями на валидационной выборке\n",
    "rmse = list() #список с RMSE моделей\n",
    "\n",
    "for i, data_i in enumerate(data):\n",
    "    \n",
    "    #разделим выборку на тренировочную и валидационную\n",
    "    X_train, X_valid, y_train, y_valid = train_test_split(\n",
    "        data_i.drop(['id', 'product'], axis=1),\n",
    "        data_i['product'],\n",
    "        test_size=TEST_SIZE,\n",
    "        random_state=RANDOM_STATE\n",
    "    )\n",
    "    \n",
    "    y_train = y_train.reset_index(drop=True)\n",
    "    y_true_valid.insert(i, y_valid.reset_index(drop=True))\n",
    "    \n",
    "    #масштабируем количественные признаки\n",
    "    scaler = StandardScaler()\n",
    "    \n",
    "    X_train_scaled = scaler.fit_transform(X_train)\n",
    "    X_valid_scaled = scaler.transform(X_valid)\n",
    "\n",
    "    X_train_scaled = pd.DataFrame(X_train_scaled, columns=['f0', 'f1', 'f2'])\n",
    "    X_valid_scaled = pd.DataFrame(X_valid_scaled, columns=['f0', 'f1', 'f2'])\n",
    "    \n",
    "    #создадим модель и обучим\n",
    "    models.insert(i, LinearRegression())\n",
    "    \n",
    "    models[i].fit(X_train_scaled, y_train)\n",
    "    \n",
    "    #сделаем предсказание\n",
    "    predicts.insert(i, pd.Series(models[i].predict(X_valid_scaled)))\n",
    "    \n",
    "    #найдём RMSE\n",
    "    rmse.insert(i, mean_squared_error(y_true_valid[i], predicts[i], squared=False))"
   ]
  },
  {
   "cell_type": "markdown",
   "metadata": {},
   "source": [
    "Выпишем среднее и RMSE для каждой модели."
   ]
  },
  {
   "cell_type": "code",
   "execution_count": 23,
   "metadata": {
    "scrolled": true
   },
   "outputs": [
    {
     "name": "stdout",
     "output_type": "stream",
     "text": [
      "Среднее для региона 1 равняется 92.2865385223536, дисперсия 37.76114714593895, 92.37491536925566 \n",
      "\n",
      "Среднее для региона 2 равняется 69.16894101447984, дисперсия 0.892863589877732, 69.16493608452177 \n",
      "\n",
      "Среднее для региона 3 равняется 94.82069136328788, дисперсия 40.13115560413051, 95.05858294595217 \n",
      "\n"
     ]
    }
   ],
   "source": [
    "for i in range(3):\n",
    "    print(f'Среднее для региона {i+1} равняется {predicts[i].mean()}, дисперсия {rmse[i]}, {y_true_valid[i].mean()} \\n')"
   ]
  },
  {
   "cell_type": "markdown",
   "metadata": {},
   "source": [
    "\n",
    "<div class=\"alert alert-block alert-success\">\n",
    "<b>Успех:</b> Шаг проделан лаконично, все метрики посчитаны корректно\n",
    "</div> "
   ]
  },
  {
   "cell_type": "markdown",
   "metadata": {},
   "source": [
    "## Подготовка к расчёту прибыли"
   ]
  },
  {
   "cell_type": "markdown",
   "metadata": {},
   "source": [
    "Рассчитаем минимальный запас сырья для безубыточной работы. Для начала создадим переменные с бюджетом и ценой."
   ]
  },
  {
   "cell_type": "code",
   "execution_count": 24,
   "metadata": {},
   "outputs": [],
   "source": [
    "BUDGET = 10 ** 10 #бюджет\n",
    "COST = 450 * 10 ** 3 #цена за 1000 баррелей"
   ]
  },
  {
   "cell_type": "markdown",
   "metadata": {},
   "source": [
    "\n",
    "<div class=\"alert alert-block alert-info\">\n",
    "    \n",
    "<b>Совет:</b> Константы принято записывать в ВЕРХНЕМ РЕГИСТРЕ =) Читем здесь https://pythonworld.ru/osnovy/pep-8-rukovodstvo-po-napisaniyu-koda-na-python.html#section-29\n",
    "    "
   ]
  },
  {
   "cell_type": "markdown",
   "metadata": {},
   "source": [
    "Чтобы найти минимальный объём сырья для безубыточной работы скважины разделим бюджет на цену за 1000 баррелей, умноженной на 200, так как будут создаваться 200 скважин."
   ]
  },
  {
   "cell_type": "code",
   "execution_count": 25,
   "metadata": {},
   "outputs": [
    {
     "data": {
      "text/plain": [
       "111.11111111111111"
      ]
     },
     "execution_count": 25,
     "metadata": {},
     "output_type": "execute_result"
    }
   ],
   "source": [
    "MIN_VOLUME = BUDGET / (COST * 200)\n",
    "MIN_VOLUME"
   ]
  },
  {
   "cell_type": "markdown",
   "metadata": {},
   "source": [
    "Минимальный объём скважины больше чем среднее для любого из регионов, однако максимальный может быть больше."
   ]
  },
  {
   "cell_type": "markdown",
   "metadata": {},
   "source": [
    "<div class=\"alert alert-block alert-success\">\n",
    "<b>Успех:</b> Значение для безубыточной разработки посчитано верно, с выводом согласен  \n",
    "</div>"
   ]
  },
  {
   "cell_type": "markdown",
   "metadata": {},
   "source": [
    "## Расчёт прибыли и рисков "
   ]
  },
  {
   "cell_type": "markdown",
   "metadata": {},
   "source": [
    "Необходимо отобрать 200 лучших скважин в каждом регионе и найти прибыль от этих скважин. Для решения задачи напишем функцию."
   ]
  },
  {
   "cell_type": "code",
   "execution_count": 34,
   "metadata": {},
   "outputs": [
    {
     "data": {
      "text/plain": [
       "0        140.415284\n",
       "1         84.683193\n",
       "2        138.812581\n",
       "3        117.496790\n",
       "4         75.558549\n",
       "            ...    \n",
       "24990     61.107288\n",
       "24991    120.638882\n",
       "24992    100.291635\n",
       "24993     70.973992\n",
       "24994     46.790570\n",
       "Length: 24995, dtype: float64"
      ]
     },
     "execution_count": 34,
     "metadata": {},
     "output_type": "execute_result"
    }
   ],
   "source": [
    "predicts[0]"
   ]
  },
  {
   "cell_type": "code",
   "execution_count": 37,
   "metadata": {},
   "outputs": [
    {
     "data": {
      "text/plain": [
       "RangeIndex(start=0, stop=24995, step=1)"
      ]
     },
     "execution_count": 37,
     "metadata": {},
     "output_type": "execute_result"
    }
   ],
   "source": [
    "y_true_valid[0].index"
   ]
  },
  {
   "cell_type": "code",
   "execution_count": 41,
   "metadata": {},
   "outputs": [
    {
     "data": {
      "text/plain": [
       "Int64Index([  305, 21620,   752, 12584,  6216, 15540, 24818, 18323,  2550,\n",
       "            15744,\n",
       "            ...\n",
       "            14332, 21643, 16920, 23617, 22439,  8198,  7498, 12373,  3596,\n",
       "            14300],\n",
       "           dtype='int64', length=200)"
      ]
     },
     "execution_count": 41,
     "metadata": {},
     "output_type": "execute_result"
    }
   ],
   "source": [
    "predicts[0].sort_values(ascending=False)[:200].index"
   ]
  },
  {
   "cell_type": "code",
   "execution_count": 42,
   "metadata": {},
   "outputs": [
    {
     "data": {
      "text/plain": [
       "305      144.009283\n",
       "21620    162.810993\n",
       "752      123.920559\n",
       "12584    155.212534\n",
       "6216     145.106893\n",
       "            ...    \n",
       "8198     106.762173\n",
       "7498     140.870781\n",
       "12373    160.082468\n",
       "3596     130.539586\n",
       "14300    102.618513\n",
       "Name: product, Length: 200, dtype: float64"
      ]
     },
     "execution_count": 42,
     "metadata": {},
     "output_type": "execute_result"
    }
   ],
   "source": [
    "y_true_valid[0][predicts[0].sort_values(ascending=False)[:200].index]"
   ]
  },
  {
   "cell_type": "code",
   "execution_count": 28,
   "metadata": {},
   "outputs": [],
   "source": [
    "def get_profit(pred):\n",
    "    return pred.sum() * COST - BUDGET"
   ]
  },
  {
   "cell_type": "markdown",
   "metadata": {},
   "source": [
    "<div class=\"alert alert-block alert-danger\">\n",
    "<b>Ошибка:</b> Для выбора 200 лучших скважин нужно использовать предсказанные значения. А вот для подсчета прибыли должны использоваться настоящие значения соответствующих ячеек.\n",
    "\n",
    "</div>"
   ]
  },
  {
   "cell_type": "markdown",
   "metadata": {},
   "source": [
    "<div class=\"alert alert-block alert-success\">\n",
    "<b>Успех[2]:</b> Есть контакт\n",
    "</div>\n"
   ]
  },
  {
   "cell_type": "markdown",
   "metadata": {},
   "source": [
    "Создадим цикл для прибыли."
   ]
  },
  {
   "cell_type": "code",
   "execution_count": 44,
   "metadata": {},
   "outputs": [
    {
     "name": "stdout",
     "output_type": "stream",
     "text": [
      "Прибыль для региона 1 составляет 3301821343.6462536\n",
      "Прибыль для региона 2 составляет 2415086696.681511\n",
      "Прибыль для региона 3 составляет 2103914701.2991962\n"
     ]
    }
   ],
   "source": [
    "for i in range(3):\n",
    "    print(\n",
    "        f'Прибыль для региона {i+1} составляет ' \n",
    "        f'{get_profit(y_true_valid[i][predicts[i].sort_values(ascending=False)[:200].index])}'\n",
    "    )"
   ]
  },
  {
   "cell_type": "markdown",
   "metadata": {},
   "source": [
    "Прибыль показана для скважин с максимальным значением сырья."
   ]
  },
  {
   "cell_type": "markdown",
   "metadata": {},
   "source": [
    "Найдём распределение прибыли с помощью метода bootstrap, для чего отберём 500 случайных скважин и найдём прибыль с 200 лучшими."
   ]
  },
  {
   "cell_type": "markdown",
   "metadata": {},
   "source": [
    "Функция для бутстрапа."
   ]
  },
  {
   "cell_type": "code",
   "execution_count": 51,
   "metadata": {},
   "outputs": [],
   "source": [
    "def bootstrap(pred, valid):\n",
    "    profit = list()\n",
    "    \n",
    "    for i in range(1000):\n",
    "        index = pred.sample(n=500, replace=True).sort_values(ascending=False)[:200].index\n",
    "        profit.insert(i,get_profit(valid[index]))\n",
    "        \n",
    "    return pd.Series(profit)"
   ]
  },
  {
   "cell_type": "markdown",
   "metadata": {},
   "source": [
    "\n",
    "<div class=\"alert alert-block alert-success\">\n",
    "<b>Успех:</b> С бутстрапом тоже все в порядке (сэмплирование происходит с возвращением)\n",
    "</div>\n"
   ]
  },
  {
   "cell_type": "markdown",
   "metadata": {},
   "source": [
    "Найдём распределение прибыли для бутстрапа для каждого региона"
   ]
  },
  {
   "cell_type": "code",
   "execution_count": 52,
   "metadata": {},
   "outputs": [],
   "source": [
    "profit_dist = list()\n",
    "\n",
    "for i in range(3):\n",
    "    profit_dist.insert(i, bootstrap(predicts[i], y_true_valid[i]))"
   ]
  },
  {
   "cell_type": "markdown",
   "metadata": {},
   "source": [
    "Найдём среднюю прибыль, 95% доверительного интервала и риск убытков."
   ]
  },
  {
   "cell_type": "markdown",
   "metadata": {},
   "source": [
    "Функция для процента убытков."
   ]
  },
  {
   "cell_type": "code",
   "execution_count": 53,
   "metadata": {},
   "outputs": [],
   "source": [
    "def risk(data):\n",
    "    return data[data<0].count() / len(data)"
   ]
  },
  {
   "cell_type": "markdown",
   "metadata": {},
   "source": [
    "Выведем среднее, квантили и процент убытков для каждого региона."
   ]
  },
  {
   "cell_type": "code",
   "execution_count": 54,
   "metadata": {},
   "outputs": [
    {
     "name": "stdout",
     "output_type": "stream",
     "text": [
      "Регион 1:\n",
      "Средняя прибыль 386243015.9923171\n",
      "Доверительный интервал 95% от -139293281.56638464 до 921439844.8228406\n",
      "Убытки: 0.073 \n",
      "\n",
      "Регион 2:\n",
      "Средняя прибыль 473454030.4874329\n",
      "Доверительный интервал 95% от 70320926.48706298 до 847980560.4245868\n",
      "Убытки: 0.01 \n",
      "\n",
      "Регион 3:\n",
      "Средняя прибыль 364337796.9504442\n",
      "Доверительный интервал 95% от -158150637.4817801 до 854999898.1968027\n",
      "Убытки: 0.079 \n",
      "\n"
     ]
    }
   ],
   "source": [
    "for i in range(3):\n",
    "    print(f'Регион {i+1}:')\n",
    "    print(f'Средняя прибыль {profit_dist[i].mean()}')\n",
    "    print(f'Доверительный интервал 95% от {profit_dist[i].quantile(0.025)} до {profit_dist[i].quantile(0.975)}')\n",
    "    print(f'Убытки: {risk(profit_dist[i])} \\n')"
   ]
  },
  {
   "cell_type": "markdown",
   "metadata": {},
   "source": [
    "<div class=\"alert alert-block alert-success\">\n",
    "<b>Успех:</b> метрики считаются верным образом!  \n",
    "</div>\n"
   ]
  },
  {
   "cell_type": "markdown",
   "metadata": {},
   "source": [
    "## Выводы"
   ]
  },
  {
   "cell_type": "markdown",
   "metadata": {},
   "source": [
    "На основе данных выше, получается, что максимальная прибыль будет от второго региона, там самое большое среднее и меньше всего вероятность убытков."
   ]
  },
  {
   "cell_type": "markdown",
   "metadata": {},
   "source": [
    "<div class=\"alert alert-block alert-info\">\n",
    "<b>Совет: </b>\n",
    "    \n",
    "Не забудь обновить выводы, если потребуется\n",
    "</div>                                                              \n",
    "\n"
   ]
  },
  {
   "cell_type": "markdown",
   "metadata": {},
   "source": [
    "<div class=\"alert alert-block alert-success\">\n",
    "<b>Успех[2]:</b> Отлично, проведено детальное исследование и был выбран правильный регион! Но не стесняйся делать выводы содержательнее\n",
    "</div>\n",
    "\n",
    "\n",
    "\n",
    "<div class=\"alert alert-block alert-info\">\n",
    "<b>Совет[2]: </b> Если интересно изучить тему бутстрапа глубже - я оставлю  ниже несколько интересных и полезных ссылок по теме:\n",
    "        \n",
    "1. \"Bootstrap Hypothesis Testing in Statistics with Example\" \n",
    "        \n",
    "https://www.youtube.com/watch?v=9STZ7MxkNVg\n",
    "        \n",
    "2. \"How to Calculate Bootstrap Confidence Intervals For Machine Learning Results in Python\" \n",
    "        \n",
    "https://machinelearningmastery.com/calculate-bootstrap-confidence-intervals-machine-learning-results-python/\n",
    "        \n",
    "3. \"A Gentle Introduction to the Bootstrap Method\" \n",
    "\n",
    "https://machinelearningmastery.com/a-gentle-introduction-to-the-bootstrap-method/\n",
    "        \n",
    "4. \"An Introduction to the Bootstrap Method\" \n",
    "        \n",
    "https://towardsdatascience.com/an-introduction-to-the-bootstrap-method-58bcb51b4d60#:~:text=The%20basic%20idea%20of%20bootstrap,population%20mean)%20on%20sample%20data.&amp;text=A%20sample%20from%20population%20with%20sample%20size%20n\n",
    "        \n",
    "5. \"Bootstrapping and Resampling in Statistics with Example\" \n",
    "        \n",
    "        \n",
    "https://www.youtube.com/watch?v=O_Fj4q8lgmc\n",
    "\n",
    "6. Также одна из программ на рынке по этой теме управлненеческого моделирования - AnyLogic - интересный продукт. Можешь видео из интернета посмотреть по какому-нибудь примеру с её использованием. Тогда тема управленческого моделирования и бутстрапа может по-другому лечь.\n",
    "</div>"
   ]
  },
  {
   "cell_type": "markdown",
   "metadata": {},
   "source": [
    "## Чек-лист готовности проекта"
   ]
  },
  {
   "cell_type": "markdown",
   "metadata": {},
   "source": [
    "Поставьте 'x' в выполненных пунктах. Далее нажмите Shift+Enter."
   ]
  },
  {
   "cell_type": "markdown",
   "metadata": {},
   "source": [
    "- [x]  Jupyter Notebook открыт\n",
    "- [ ]  Весь код выполняется без ошибок\n",
    "- [ ]  Ячейки с кодом расположены в порядке исполнения\n",
    "- [ ]  Выполнен шаг 1: данные подготовлены\n",
    "- [ ]  Выполнен шаг 2: модели обучены и проверены\n",
    "    - [ ]  Данные корректно разбиты на обучающую и валидационную выборки\n",
    "    - [ ]  Модели обучены, предсказания сделаны\n",
    "    - [ ]  Предсказания и правильные ответы на валидационной выборке сохранены\n",
    "    - [ ]  На экране напечатаны результаты\n",
    "    - [ ]  Сделаны выводы\n",
    "- [ ]  Выполнен шаг 3: проведена подготовка к расчёту прибыли\n",
    "    - [ ]  Для всех ключевых значений созданы константы Python\n",
    "    - [ ]  Посчитано минимальное среднее количество продукта в месторождениях региона, достаточное для разработки\n",
    "    - [ ]  По предыдущему пункту сделаны выводы\n",
    "    - [ ]  Написана функция расчёта прибыли\n",
    "- [ ]  Выполнен шаг 4: посчитаны риски и прибыль\n",
    "    - [ ]  Проведена процедура *Bootstrap*\n",
    "    - [ ]  Все параметры бутстрепа соответствуют условию\n",
    "    - [ ]  Найдены все нужные величины\n",
    "    - [ ]  Предложен регион для разработки месторождения\n",
    "    - [ ]  Выбор региона обоснован"
   ]
  },
  {
   "cell_type": "code",
   "execution_count": null,
   "metadata": {},
   "outputs": [],
   "source": []
  }
 ],
 "metadata": {
  "ExecuteTimeLog": [
   {
    "duration": 456,
    "start_time": "2025-01-07T15:47:27.305Z"
   },
   {
    "duration": 3701,
    "start_time": "2025-01-07T15:49:29.378Z"
   },
   {
    "duration": 1381,
    "start_time": "2025-01-07T15:49:37.843Z"
   },
   {
    "duration": 630,
    "start_time": "2025-01-07T15:50:18.772Z"
   },
   {
    "duration": 601,
    "start_time": "2025-01-07T15:51:10.781Z"
   },
   {
    "duration": 619,
    "start_time": "2025-01-07T15:51:51.661Z"
   },
   {
    "duration": 17,
    "start_time": "2025-01-07T15:52:36.734Z"
   },
   {
    "duration": 16,
    "start_time": "2025-01-07T15:52:56.554Z"
   },
   {
    "duration": 17,
    "start_time": "2025-01-07T15:53:12.894Z"
   },
   {
    "duration": 26,
    "start_time": "2025-01-07T15:56:04.747Z"
   },
   {
    "duration": 58,
    "start_time": "2025-01-07T15:56:29.656Z"
   },
   {
    "duration": 30,
    "start_time": "2025-01-07T15:58:45.123Z"
   },
   {
    "duration": 54,
    "start_time": "2025-01-07T16:02:23.705Z"
   },
   {
    "duration": 17,
    "start_time": "2025-01-07T16:30:52.199Z"
   },
   {
    "duration": 65,
    "start_time": "2025-01-07T16:36:26.169Z"
   },
   {
    "duration": 16,
    "start_time": "2025-01-07T16:38:22.508Z"
   },
   {
    "duration": 33,
    "start_time": "2025-01-07T16:40:59.912Z"
   },
   {
    "duration": 34,
    "start_time": "2025-01-07T16:41:30.250Z"
   },
   {
    "duration": 6,
    "start_time": "2025-01-07T17:01:05.714Z"
   },
   {
    "duration": 169,
    "start_time": "2025-01-07T17:01:11.063Z"
   },
   {
    "duration": 22,
    "start_time": "2025-01-07T17:01:17.917Z"
   },
   {
    "duration": 43,
    "start_time": "2025-01-07T17:03:11.920Z"
   },
   {
    "duration": 45,
    "start_time": "2025-01-07T17:03:22.635Z"
   },
   {
    "duration": 47,
    "start_time": "2025-01-07T17:04:46.181Z"
   },
   {
    "duration": 23,
    "start_time": "2025-01-07T17:05:46.900Z"
   },
   {
    "duration": 26,
    "start_time": "2025-01-07T17:14:13.649Z"
   },
   {
    "duration": 37,
    "start_time": "2025-01-07T17:15:11.678Z"
   },
   {
    "duration": 45,
    "start_time": "2025-01-07T17:16:16.286Z"
   },
   {
    "duration": 55,
    "start_time": "2025-01-07T17:16:36.772Z"
   },
   {
    "duration": 24,
    "start_time": "2025-01-07T17:17:29.587Z"
   },
   {
    "duration": 39,
    "start_time": "2025-01-07T17:44:49.224Z"
   },
   {
    "duration": 41,
    "start_time": "2025-01-07T17:45:26.915Z"
   },
   {
    "duration": 462,
    "start_time": "2025-01-08T12:23:42.262Z"
   },
   {
    "duration": 0,
    "start_time": "2025-01-08T12:23:42.726Z"
   },
   {
    "duration": 0,
    "start_time": "2025-01-08T12:23:42.730Z"
   },
   {
    "duration": 0,
    "start_time": "2025-01-08T12:23:42.731Z"
   },
   {
    "duration": 0,
    "start_time": "2025-01-08T12:23:42.732Z"
   },
   {
    "duration": 0,
    "start_time": "2025-01-08T12:23:42.733Z"
   },
   {
    "duration": 0,
    "start_time": "2025-01-08T12:23:42.735Z"
   },
   {
    "duration": 0,
    "start_time": "2025-01-08T12:23:42.736Z"
   },
   {
    "duration": 0,
    "start_time": "2025-01-08T12:23:42.738Z"
   },
   {
    "duration": 0,
    "start_time": "2025-01-08T12:23:42.739Z"
   },
   {
    "duration": 0,
    "start_time": "2025-01-08T12:23:42.740Z"
   },
   {
    "duration": 0,
    "start_time": "2025-01-08T12:23:42.741Z"
   },
   {
    "duration": 0,
    "start_time": "2025-01-08T12:23:42.742Z"
   },
   {
    "duration": 0,
    "start_time": "2025-01-08T12:23:42.743Z"
   },
   {
    "duration": 0,
    "start_time": "2025-01-08T12:23:42.744Z"
   },
   {
    "duration": 0,
    "start_time": "2025-01-08T12:23:42.745Z"
   },
   {
    "duration": 0,
    "start_time": "2025-01-08T12:23:42.746Z"
   },
   {
    "duration": 0,
    "start_time": "2025-01-08T12:23:42.747Z"
   },
   {
    "duration": 0,
    "start_time": "2025-01-08T12:23:42.748Z"
   },
   {
    "duration": 3387,
    "start_time": "2025-01-08T12:24:01.452Z"
   },
   {
    "duration": 1299,
    "start_time": "2025-01-08T12:24:08.400Z"
   },
   {
    "duration": 255,
    "start_time": "2025-01-08T12:24:10.770Z"
   },
   {
    "duration": 16,
    "start_time": "2025-01-08T12:24:13.040Z"
   },
   {
    "duration": 47,
    "start_time": "2025-01-08T12:24:15.239Z"
   },
   {
    "duration": 37,
    "start_time": "2025-01-08T12:24:18.436Z"
   },
   {
    "duration": 32,
    "start_time": "2025-01-08T12:24:20.454Z"
   },
   {
    "duration": 39,
    "start_time": "2025-01-08T12:24:23.368Z"
   },
   {
    "duration": 242,
    "start_time": "2025-01-08T12:26:40.035Z"
   },
   {
    "duration": 233,
    "start_time": "2025-01-08T12:26:54.347Z"
   },
   {
    "duration": 16,
    "start_time": "2025-01-08T12:26:56.463Z"
   },
   {
    "duration": 46,
    "start_time": "2025-01-08T12:26:58.345Z"
   },
   {
    "duration": 20,
    "start_time": "2025-01-08T12:27:00.311Z"
   },
   {
    "duration": 26,
    "start_time": "2025-01-08T12:27:02.188Z"
   },
   {
    "duration": 35,
    "start_time": "2025-01-08T12:27:04.723Z"
   },
   {
    "duration": 232,
    "start_time": "2025-01-08T12:27:07.652Z"
   },
   {
    "duration": 15,
    "start_time": "2025-01-08T12:27:08.352Z"
   },
   {
    "duration": 47,
    "start_time": "2025-01-08T12:27:10.112Z"
   },
   {
    "duration": 23,
    "start_time": "2025-01-08T12:27:12.965Z"
   },
   {
    "duration": 28,
    "start_time": "2025-01-08T12:27:14.144Z"
   },
   {
    "duration": 38,
    "start_time": "2025-01-08T12:27:15.830Z"
   },
   {
    "duration": 2,
    "start_time": "2025-01-08T12:40:48.548Z"
   },
   {
    "duration": 13,
    "start_time": "2025-01-08T12:43:27.041Z"
   },
   {
    "duration": 11,
    "start_time": "2025-01-08T12:44:45.812Z"
   },
   {
    "duration": 9,
    "start_time": "2025-01-08T12:46:00.352Z"
   },
   {
    "duration": 4,
    "start_time": "2025-01-08T12:47:12.991Z"
   },
   {
    "duration": 4,
    "start_time": "2025-01-08T12:47:41.503Z"
   },
   {
    "duration": 6,
    "start_time": "2025-01-08T12:49:12.373Z"
   },
   {
    "duration": 4,
    "start_time": "2025-01-08T12:50:22.839Z"
   },
   {
    "duration": 6,
    "start_time": "2025-01-08T12:50:27.602Z"
   },
   {
    "duration": 7,
    "start_time": "2025-01-08T12:55:41.432Z"
   },
   {
    "duration": 59,
    "start_time": "2025-01-08T12:59:17.018Z"
   },
   {
    "duration": 5,
    "start_time": "2025-01-08T12:59:29.665Z"
   },
   {
    "duration": 6,
    "start_time": "2025-01-08T12:59:36.299Z"
   },
   {
    "duration": 14,
    "start_time": "2025-01-08T13:02:46.578Z"
   },
   {
    "duration": 10,
    "start_time": "2025-01-08T13:02:55.102Z"
   },
   {
    "duration": 13,
    "start_time": "2025-01-08T13:02:57.542Z"
   },
   {
    "duration": 5,
    "start_time": "2025-01-08T13:02:59.321Z"
   },
   {
    "duration": 6,
    "start_time": "2025-01-08T13:03:01.030Z"
   },
   {
    "duration": 5,
    "start_time": "2025-01-08T13:03:02.458Z"
   },
   {
    "duration": 2645,
    "start_time": "2025-01-08T13:03:16.813Z"
   },
   {
    "duration": 1542,
    "start_time": "2025-01-08T13:03:19.460Z"
   },
   {
    "duration": 3,
    "start_time": "2025-01-08T13:03:21.004Z"
   },
   {
    "duration": 189,
    "start_time": "2025-01-08T13:03:21.009Z"
   },
   {
    "duration": 31,
    "start_time": "2025-01-08T13:03:21.199Z"
   },
   {
    "duration": 56,
    "start_time": "2025-01-08T13:03:21.232Z"
   },
   {
    "duration": 42,
    "start_time": "2025-01-08T13:03:21.289Z"
   },
   {
    "duration": 38,
    "start_time": "2025-01-08T13:03:21.333Z"
   },
   {
    "duration": 65,
    "start_time": "2025-01-08T13:03:21.372Z"
   },
   {
    "duration": 154,
    "start_time": "2025-01-08T13:03:21.441Z"
   },
   {
    "duration": 15,
    "start_time": "2025-01-08T13:03:21.597Z"
   },
   {
    "duration": 68,
    "start_time": "2025-01-08T13:03:21.613Z"
   },
   {
    "duration": 33,
    "start_time": "2025-01-08T13:03:21.683Z"
   },
   {
    "duration": 34,
    "start_time": "2025-01-08T13:03:21.741Z"
   },
   {
    "duration": 57,
    "start_time": "2025-01-08T13:03:21.777Z"
   },
   {
    "duration": 165,
    "start_time": "2025-01-08T13:03:21.836Z"
   },
   {
    "duration": 17,
    "start_time": "2025-01-08T13:03:22.003Z"
   },
   {
    "duration": 79,
    "start_time": "2025-01-08T13:03:22.032Z"
   },
   {
    "duration": 32,
    "start_time": "2025-01-08T13:03:22.113Z"
   },
   {
    "duration": 69,
    "start_time": "2025-01-08T13:03:22.148Z"
   },
   {
    "duration": 47,
    "start_time": "2025-01-08T13:03:22.219Z"
   },
   {
    "duration": 13,
    "start_time": "2025-01-08T13:03:22.268Z"
   },
   {
    "duration": 21,
    "start_time": "2025-01-08T13:03:22.283Z"
   },
   {
    "duration": 9,
    "start_time": "2025-01-08T13:03:22.306Z"
   },
   {
    "duration": 21,
    "start_time": "2025-01-08T13:03:22.330Z"
   },
   {
    "duration": 79,
    "start_time": "2025-01-08T13:03:22.354Z"
   },
   {
    "duration": 10,
    "start_time": "2025-01-08T13:03:22.437Z"
   },
   {
    "duration": 81,
    "start_time": "2025-01-08T13:03:22.454Z"
   },
   {
    "duration": 12,
    "start_time": "2025-01-08T13:04:19.513Z"
   },
   {
    "duration": 17,
    "start_time": "2025-01-08T13:06:17.710Z"
   },
   {
    "duration": 13,
    "start_time": "2025-01-08T13:06:19.921Z"
   },
   {
    "duration": 7,
    "start_time": "2025-01-08T13:06:21.794Z"
   },
   {
    "duration": 6,
    "start_time": "2025-01-08T13:06:23.391Z"
   },
   {
    "duration": 6,
    "start_time": "2025-01-08T13:06:24.648Z"
   },
   {
    "duration": 5,
    "start_time": "2025-01-08T13:06:25.313Z"
   },
   {
    "duration": 10,
    "start_time": "2025-01-08T13:06:39.210Z"
   },
   {
    "duration": 6,
    "start_time": "2025-01-08T13:06:41.325Z"
   },
   {
    "duration": 4,
    "start_time": "2025-01-08T13:06:42.905Z"
   },
   {
    "duration": 7,
    "start_time": "2025-01-08T13:06:44.025Z"
   },
   {
    "duration": 7,
    "start_time": "2025-01-08T13:06:44.457Z"
   },
   {
    "duration": 2629,
    "start_time": "2025-01-08T13:07:27.967Z"
   },
   {
    "duration": 1789,
    "start_time": "2025-01-08T13:07:30.599Z"
   },
   {
    "duration": 3,
    "start_time": "2025-01-08T13:07:32.390Z"
   },
   {
    "duration": 206,
    "start_time": "2025-01-08T13:07:32.394Z"
   },
   {
    "duration": 28,
    "start_time": "2025-01-08T13:07:32.602Z"
   },
   {
    "duration": 92,
    "start_time": "2025-01-08T13:07:32.633Z"
   },
   {
    "duration": 31,
    "start_time": "2025-01-08T13:07:32.728Z"
   },
   {
    "duration": 43,
    "start_time": "2025-01-08T13:07:32.761Z"
   },
   {
    "duration": 65,
    "start_time": "2025-01-08T13:07:32.806Z"
   },
   {
    "duration": 153,
    "start_time": "2025-01-08T13:07:32.872Z"
   },
   {
    "duration": 16,
    "start_time": "2025-01-08T13:07:33.030Z"
   },
   {
    "duration": 45,
    "start_time": "2025-01-08T13:07:33.048Z"
   },
   {
    "duration": 45,
    "start_time": "2025-01-08T13:07:33.095Z"
   },
   {
    "duration": 92,
    "start_time": "2025-01-08T13:07:33.143Z"
   },
   {
    "duration": 40,
    "start_time": "2025-01-08T13:07:33.238Z"
   },
   {
    "duration": 159,
    "start_time": "2025-01-08T13:07:33.280Z"
   },
   {
    "duration": 15,
    "start_time": "2025-01-08T13:07:33.440Z"
   },
   {
    "duration": 84,
    "start_time": "2025-01-08T13:07:33.457Z"
   },
   {
    "duration": 22,
    "start_time": "2025-01-08T13:07:33.543Z"
   },
   {
    "duration": 39,
    "start_time": "2025-01-08T13:07:33.566Z"
   },
   {
    "duration": 61,
    "start_time": "2025-01-08T13:07:33.607Z"
   },
   {
    "duration": 15,
    "start_time": "2025-01-08T13:07:33.670Z"
   },
   {
    "duration": 20,
    "start_time": "2025-01-08T13:07:33.687Z"
   },
   {
    "duration": 35,
    "start_time": "2025-01-08T13:07:33.709Z"
   },
   {
    "duration": 90,
    "start_time": "2025-01-08T13:07:33.747Z"
   },
   {
    "duration": 91,
    "start_time": "2025-01-08T13:07:33.840Z"
   },
   {
    "duration": 109,
    "start_time": "2025-01-08T13:07:33.933Z"
   },
   {
    "duration": 6,
    "start_time": "2025-01-08T13:07:34.044Z"
   },
   {
    "duration": 13,
    "start_time": "2025-01-08T13:08:29.547Z"
   },
   {
    "duration": 12,
    "start_time": "2025-01-08T13:08:44.150Z"
   },
   {
    "duration": 15,
    "start_time": "2025-01-08T13:10:22.019Z"
   },
   {
    "duration": 11,
    "start_time": "2025-01-08T13:10:35.911Z"
   },
   {
    "duration": 2478,
    "start_time": "2025-01-08T13:19:04.899Z"
   },
   {
    "duration": 1402,
    "start_time": "2025-01-08T13:19:07.379Z"
   },
   {
    "duration": 2,
    "start_time": "2025-01-08T13:19:08.783Z"
   },
   {
    "duration": 162,
    "start_time": "2025-01-08T13:19:08.786Z"
   },
   {
    "duration": 14,
    "start_time": "2025-01-08T13:19:08.950Z"
   },
   {
    "duration": 86,
    "start_time": "2025-01-08T13:19:08.966Z"
   },
   {
    "duration": 22,
    "start_time": "2025-01-08T13:19:09.053Z"
   },
   {
    "duration": 30,
    "start_time": "2025-01-08T13:19:09.076Z"
   },
   {
    "duration": 53,
    "start_time": "2025-01-08T13:19:09.107Z"
   },
   {
    "duration": 139,
    "start_time": "2025-01-08T13:19:09.162Z"
   },
   {
    "duration": 14,
    "start_time": "2025-01-08T13:19:09.303Z"
   },
   {
    "duration": 110,
    "start_time": "2025-01-08T13:19:09.329Z"
   },
   {
    "duration": 21,
    "start_time": "2025-01-08T13:19:09.441Z"
   },
   {
    "duration": 27,
    "start_time": "2025-01-08T13:19:09.465Z"
   },
   {
    "duration": 58,
    "start_time": "2025-01-08T13:19:09.494Z"
   },
   {
    "duration": 146,
    "start_time": "2025-01-08T13:19:09.554Z"
   },
   {
    "duration": 14,
    "start_time": "2025-01-08T13:19:09.702Z"
   },
   {
    "duration": 53,
    "start_time": "2025-01-08T13:19:09.718Z"
   },
   {
    "duration": 22,
    "start_time": "2025-01-08T13:19:09.773Z"
   },
   {
    "duration": 48,
    "start_time": "2025-01-08T13:19:09.796Z"
   },
   {
    "duration": 39,
    "start_time": "2025-01-08T13:19:09.845Z"
   },
   {
    "duration": 12,
    "start_time": "2025-01-08T13:19:09.886Z"
   },
   {
    "duration": 36,
    "start_time": "2025-01-08T13:19:09.900Z"
   },
   {
    "duration": 8,
    "start_time": "2025-01-08T13:19:09.938Z"
   },
   {
    "duration": 21,
    "start_time": "2025-01-08T13:19:09.948Z"
   },
   {
    "duration": 8,
    "start_time": "2025-01-08T13:19:09.970Z"
   },
   {
    "duration": 9,
    "start_time": "2025-01-08T13:19:09.979Z"
   },
   {
    "duration": 11,
    "start_time": "2025-01-08T13:19:09.990Z"
   },
   {
    "duration": 120,
    "start_time": "2025-01-08T13:19:10.002Z"
   },
   {
    "duration": 111,
    "start_time": "2025-01-08T13:19:10.124Z"
   },
   {
    "duration": 94,
    "start_time": "2025-01-08T13:19:10.240Z"
   },
   {
    "duration": 19,
    "start_time": "2025-01-08T13:19:10.335Z"
   },
   {
    "duration": 2429,
    "start_time": "2025-01-08T13:24:07.755Z"
   },
   {
    "duration": 1388,
    "start_time": "2025-01-08T13:24:10.186Z"
   },
   {
    "duration": 3,
    "start_time": "2025-01-08T13:24:11.576Z"
   },
   {
    "duration": 203,
    "start_time": "2025-01-08T13:24:11.580Z"
   },
   {
    "duration": 15,
    "start_time": "2025-01-08T13:24:11.785Z"
   },
   {
    "duration": 56,
    "start_time": "2025-01-08T13:24:11.802Z"
   },
   {
    "duration": 19,
    "start_time": "2025-01-08T13:24:11.860Z"
   },
   {
    "duration": 26,
    "start_time": "2025-01-08T13:24:11.881Z"
   },
   {
    "duration": 64,
    "start_time": "2025-01-08T13:24:11.908Z"
   },
   {
    "duration": 166,
    "start_time": "2025-01-08T13:24:11.974Z"
   },
   {
    "duration": 14,
    "start_time": "2025-01-08T13:24:12.142Z"
   },
   {
    "duration": 60,
    "start_time": "2025-01-08T13:24:12.158Z"
   },
   {
    "duration": 19,
    "start_time": "2025-01-08T13:24:12.219Z"
   },
   {
    "duration": 84,
    "start_time": "2025-01-08T13:24:12.241Z"
   },
   {
    "duration": 38,
    "start_time": "2025-01-08T13:24:12.327Z"
   },
   {
    "duration": 143,
    "start_time": "2025-01-08T13:24:12.367Z"
   },
   {
    "duration": 14,
    "start_time": "2025-01-08T13:24:12.512Z"
   },
   {
    "duration": 45,
    "start_time": "2025-01-08T13:24:12.529Z"
   },
   {
    "duration": 20,
    "start_time": "2025-01-08T13:24:12.576Z"
   },
   {
    "duration": 43,
    "start_time": "2025-01-08T13:24:12.597Z"
   },
   {
    "duration": 47,
    "start_time": "2025-01-08T13:24:12.642Z"
   },
   {
    "duration": 10,
    "start_time": "2025-01-08T13:24:12.691Z"
   },
   {
    "duration": 19,
    "start_time": "2025-01-08T13:24:12.703Z"
   },
   {
    "duration": 113,
    "start_time": "2025-01-08T13:24:12.724Z"
   },
   {
    "duration": 0,
    "start_time": "2025-01-08T13:24:12.839Z"
   },
   {
    "duration": 0,
    "start_time": "2025-01-08T13:24:12.840Z"
   },
   {
    "duration": 0,
    "start_time": "2025-01-08T13:24:12.841Z"
   },
   {
    "duration": 0,
    "start_time": "2025-01-08T13:24:12.843Z"
   },
   {
    "duration": 0,
    "start_time": "2025-01-08T13:24:12.844Z"
   },
   {
    "duration": 0,
    "start_time": "2025-01-08T13:24:12.846Z"
   },
   {
    "duration": 0,
    "start_time": "2025-01-08T13:24:12.847Z"
   },
   {
    "duration": 0,
    "start_time": "2025-01-08T13:24:12.848Z"
   },
   {
    "duration": 10,
    "start_time": "2025-01-08T13:24:19.036Z"
   },
   {
    "duration": 4,
    "start_time": "2025-01-08T13:24:20.842Z"
   },
   {
    "duration": 4,
    "start_time": "2025-01-08T13:24:21.536Z"
   },
   {
    "duration": 5,
    "start_time": "2025-01-08T13:24:22.809Z"
   },
   {
    "duration": 5,
    "start_time": "2025-01-08T13:24:23.602Z"
   },
   {
    "duration": 9,
    "start_time": "2025-01-08T13:25:14.837Z"
   },
   {
    "duration": 10,
    "start_time": "2025-01-08T13:25:19.628Z"
   },
   {
    "duration": 6,
    "start_time": "2025-01-08T13:25:25.545Z"
   },
   {
    "duration": 4,
    "start_time": "2025-01-08T13:25:26.976Z"
   },
   {
    "duration": 6,
    "start_time": "2025-01-08T13:25:27.463Z"
   },
   {
    "duration": 6,
    "start_time": "2025-01-08T13:25:27.919Z"
   },
   {
    "duration": 111,
    "start_time": "2025-01-08T13:32:54.765Z"
   },
   {
    "duration": 547,
    "start_time": "2025-01-08T13:33:01.032Z"
   },
   {
    "duration": 498,
    "start_time": "2025-01-08T13:33:11.425Z"
   },
   {
    "duration": 593,
    "start_time": "2025-01-08T13:33:27.390Z"
   },
   {
    "duration": 2403,
    "start_time": "2025-01-08T13:36:54.061Z"
   },
   {
    "duration": 1413,
    "start_time": "2025-01-08T13:36:56.467Z"
   },
   {
    "duration": 2,
    "start_time": "2025-01-08T13:36:57.882Z"
   },
   {
    "duration": 173,
    "start_time": "2025-01-08T13:36:57.886Z"
   },
   {
    "duration": 16,
    "start_time": "2025-01-08T13:36:58.061Z"
   },
   {
    "duration": 60,
    "start_time": "2025-01-08T13:36:58.079Z"
   },
   {
    "duration": 21,
    "start_time": "2025-01-08T13:36:58.141Z"
   },
   {
    "duration": 38,
    "start_time": "2025-01-08T13:36:58.164Z"
   },
   {
    "duration": 58,
    "start_time": "2025-01-08T13:36:58.204Z"
   },
   {
    "duration": 707,
    "start_time": "2025-01-08T13:36:58.264Z"
   },
   {
    "duration": 152,
    "start_time": "2025-01-08T13:36:58.973Z"
   },
   {
    "duration": 18,
    "start_time": "2025-01-08T13:36:59.127Z"
   },
   {
    "duration": 47,
    "start_time": "2025-01-08T13:36:59.147Z"
   },
   {
    "duration": 44,
    "start_time": "2025-01-08T13:36:59.198Z"
   },
   {
    "duration": 27,
    "start_time": "2025-01-08T13:36:59.244Z"
   },
   {
    "duration": 66,
    "start_time": "2025-01-08T13:36:59.272Z"
   },
   {
    "duration": 146,
    "start_time": "2025-01-08T13:36:59.340Z"
   },
   {
    "duration": 16,
    "start_time": "2025-01-08T13:36:59.488Z"
   },
   {
    "duration": 64,
    "start_time": "2025-01-08T13:36:59.506Z"
   },
   {
    "duration": 23,
    "start_time": "2025-01-08T13:36:59.571Z"
   },
   {
    "duration": 43,
    "start_time": "2025-01-08T13:36:59.595Z"
   },
   {
    "duration": 39,
    "start_time": "2025-01-08T13:36:59.639Z"
   },
   {
    "duration": 11,
    "start_time": "2025-01-08T13:36:59.680Z"
   },
   {
    "duration": 20,
    "start_time": "2025-01-08T13:36:59.692Z"
   },
   {
    "duration": 30,
    "start_time": "2025-01-08T13:36:59.714Z"
   },
   {
    "duration": 23,
    "start_time": "2025-01-08T13:36:59.746Z"
   },
   {
    "duration": 8,
    "start_time": "2025-01-08T13:36:59.771Z"
   },
   {
    "duration": 22,
    "start_time": "2025-01-08T13:36:59.780Z"
   },
   {
    "duration": 21,
    "start_time": "2025-01-08T13:36:59.803Z"
   },
   {
    "duration": 13,
    "start_time": "2025-01-08T13:36:59.825Z"
   },
   {
    "duration": 6,
    "start_time": "2025-01-08T13:36:59.841Z"
   },
   {
    "duration": 88,
    "start_time": "2025-01-08T13:36:59.850Z"
   },
   {
    "duration": 5,
    "start_time": "2025-01-08T13:37:00.031Z"
   },
   {
    "duration": 9,
    "start_time": "2025-01-08T13:37:52.544Z"
   },
   {
    "duration": 6,
    "start_time": "2025-01-08T13:37:53.121Z"
   },
   {
    "duration": 4,
    "start_time": "2025-01-08T13:37:53.716Z"
   },
   {
    "duration": 5,
    "start_time": "2025-01-08T13:37:54.286Z"
   },
   {
    "duration": 6,
    "start_time": "2025-01-08T13:37:54.758Z"
   },
   {
    "duration": 150,
    "start_time": "2025-01-08T13:45:26.985Z"
   },
   {
    "duration": 1395,
    "start_time": "2025-01-08T13:46:58.526Z"
   },
   {
    "duration": 14,
    "start_time": "2025-01-08T13:47:27.415Z"
   },
   {
    "duration": 3590,
    "start_time": "2025-01-09T11:31:12.681Z"
   },
   {
    "duration": 1747,
    "start_time": "2025-01-09T11:31:16.273Z"
   },
   {
    "duration": 2,
    "start_time": "2025-01-09T11:31:18.022Z"
   },
   {
    "duration": 294,
    "start_time": "2025-01-09T11:31:18.026Z"
   },
   {
    "duration": 19,
    "start_time": "2025-01-09T11:31:18.323Z"
   },
   {
    "duration": 66,
    "start_time": "2025-01-09T11:31:18.344Z"
   },
   {
    "duration": 38,
    "start_time": "2025-01-09T11:31:18.412Z"
   },
   {
    "duration": 32,
    "start_time": "2025-01-09T11:31:18.452Z"
   },
   {
    "duration": 63,
    "start_time": "2025-01-09T11:31:18.486Z"
   },
   {
    "duration": 752,
    "start_time": "2025-01-09T11:31:18.551Z"
   },
   {
    "duration": 247,
    "start_time": "2025-01-09T11:31:19.305Z"
   },
   {
    "duration": 17,
    "start_time": "2025-01-09T11:31:19.553Z"
   },
   {
    "duration": 47,
    "start_time": "2025-01-09T11:31:19.571Z"
   },
   {
    "duration": 24,
    "start_time": "2025-01-09T11:31:19.629Z"
   },
   {
    "duration": 28,
    "start_time": "2025-01-09T11:31:19.655Z"
   },
   {
    "duration": 62,
    "start_time": "2025-01-09T11:31:19.684Z"
   },
   {
    "duration": 235,
    "start_time": "2025-01-09T11:31:19.747Z"
   },
   {
    "duration": 15,
    "start_time": "2025-01-09T11:31:19.983Z"
   },
   {
    "duration": 47,
    "start_time": "2025-01-09T11:31:20.000Z"
   },
   {
    "duration": 20,
    "start_time": "2025-01-09T11:31:20.049Z"
   },
   {
    "duration": 28,
    "start_time": "2025-01-09T11:31:20.070Z"
   },
   {
    "duration": 68,
    "start_time": "2025-01-09T11:31:20.100Z"
   },
   {
    "duration": 14,
    "start_time": "2025-01-09T11:31:20.170Z"
   },
   {
    "duration": 25,
    "start_time": "2025-01-09T11:31:20.186Z"
   },
   {
    "duration": 31,
    "start_time": "2025-01-09T11:31:20.212Z"
   },
   {
    "duration": 37,
    "start_time": "2025-01-09T11:31:20.245Z"
   },
   {
    "duration": 43,
    "start_time": "2025-01-09T11:31:20.284Z"
   },
   {
    "duration": 55,
    "start_time": "2025-01-09T11:31:20.329Z"
   },
   {
    "duration": 22,
    "start_time": "2025-01-09T11:31:20.386Z"
   },
   {
    "duration": 124,
    "start_time": "2025-01-09T11:31:20.410Z"
   },
   {
    "duration": 9,
    "start_time": "2025-01-09T11:31:20.537Z"
   },
   {
    "duration": 10,
    "start_time": "2025-01-09T11:31:20.632Z"
   },
   {
    "duration": 271,
    "start_time": "2025-01-09T11:34:51.140Z"
   },
   {
    "duration": 2565,
    "start_time": "2025-01-09T11:36:06.217Z"
   },
   {
    "duration": 1543,
    "start_time": "2025-01-09T11:36:09.581Z"
   },
   {
    "duration": 3,
    "start_time": "2025-01-09T11:36:12.139Z"
   },
   {
    "duration": 3,
    "start_time": "2025-01-09T11:36:43.544Z"
   },
   {
    "duration": 274,
    "start_time": "2025-01-09T11:36:45.480Z"
   },
   {
    "duration": 11,
    "start_time": "2025-01-09T11:37:39.220Z"
   },
   {
    "duration": 163,
    "start_time": "2025-01-09T11:37:45.052Z"
   },
   {
    "duration": 157,
    "start_time": "2025-01-09T11:38:02.944Z"
   },
   {
    "duration": 155,
    "start_time": "2025-01-09T11:38:13.483Z"
   },
   {
    "duration": 156,
    "start_time": "2025-01-09T11:40:11.529Z"
   },
   {
    "duration": 159,
    "start_time": "2025-01-09T11:42:09.028Z"
   },
   {
    "duration": 163,
    "start_time": "2025-01-09T11:42:31.044Z"
   },
   {
    "duration": 156,
    "start_time": "2025-01-09T11:43:15.513Z"
   },
   {
    "duration": 7,
    "start_time": "2025-01-09T11:43:40.093Z"
   },
   {
    "duration": 157,
    "start_time": "2025-01-09T11:43:52.033Z"
   },
   {
    "duration": 163,
    "start_time": "2025-01-09T11:45:38.349Z"
   },
   {
    "duration": 145,
    "start_time": "2025-01-09T11:45:53.775Z"
   },
   {
    "duration": 165,
    "start_time": "2025-01-09T11:46:01.465Z"
   },
   {
    "duration": 154,
    "start_time": "2025-01-09T11:46:24.534Z"
   },
   {
    "duration": 172,
    "start_time": "2025-01-09T11:46:28.839Z"
   },
   {
    "duration": 152,
    "start_time": "2025-01-09T11:48:25.805Z"
   },
   {
    "duration": 158,
    "start_time": "2025-01-09T11:50:33.866Z"
   },
   {
    "duration": 2518,
    "start_time": "2025-01-09T11:53:45.603Z"
   },
   {
    "duration": 1455,
    "start_time": "2025-01-09T11:53:48.873Z"
   },
   {
    "duration": 2,
    "start_time": "2025-01-09T11:53:55.043Z"
   },
   {
    "duration": 2,
    "start_time": "2025-01-09T11:53:58.815Z"
   },
   {
    "duration": 170,
    "start_time": "2025-01-09T11:54:21.175Z"
   },
   {
    "duration": 17,
    "start_time": "2025-01-09T11:54:31.501Z"
   },
   {
    "duration": 50,
    "start_time": "2025-01-09T11:54:39.454Z"
   },
   {
    "duration": 23,
    "start_time": "2025-01-09T11:54:51.548Z"
   },
   {
    "duration": 33,
    "start_time": "2025-01-09T11:54:58.061Z"
   },
   {
    "duration": 41,
    "start_time": "2025-01-09T11:55:13.107Z"
   },
   {
    "duration": 731,
    "start_time": "2025-01-09T11:55:38.822Z"
   },
   {
    "duration": 162,
    "start_time": "2025-01-09T11:56:17.720Z"
   },
   {
    "duration": 18,
    "start_time": "2025-01-09T11:56:28.169Z"
   },
   {
    "duration": 46,
    "start_time": "2025-01-09T11:56:30.836Z"
   },
   {
    "duration": 23,
    "start_time": "2025-01-09T11:56:37.926Z"
   },
   {
    "duration": 27,
    "start_time": "2025-01-09T11:56:47.644Z"
   },
   {
    "duration": 42,
    "start_time": "2025-01-09T11:57:26.652Z"
   },
   {
    "duration": 160,
    "start_time": "2025-01-09T11:58:01.975Z"
   },
   {
    "duration": 16,
    "start_time": "2025-01-09T11:58:13.007Z"
   },
   {
    "duration": 49,
    "start_time": "2025-01-09T11:58:17.653Z"
   },
   {
    "duration": 23,
    "start_time": "2025-01-09T11:58:29.776Z"
   },
   {
    "duration": 31,
    "start_time": "2025-01-09T11:58:36.100Z"
   },
   {
    "duration": 43,
    "start_time": "2025-01-09T11:58:47.927Z"
   },
   {
    "duration": 10,
    "start_time": "2025-01-09T12:07:43.170Z"
   },
   {
    "duration": 81,
    "start_time": "2025-01-09T12:11:19.494Z"
   },
   {
    "duration": 139,
    "start_time": "2025-01-09T12:11:50.564Z"
   },
   {
    "duration": 81,
    "start_time": "2025-01-09T12:12:08.566Z"
   },
   {
    "duration": 5,
    "start_time": "2025-01-09T12:12:14.861Z"
   },
   {
    "duration": 371,
    "start_time": "2025-01-09T12:19:25.479Z"
   },
   {
    "duration": 4,
    "start_time": "2025-01-09T12:25:18.985Z"
   },
   {
    "duration": 4,
    "start_time": "2025-01-09T12:25:30.985Z"
   },
   {
    "duration": 387,
    "start_time": "2025-01-09T12:29:35.858Z"
   },
   {
    "duration": 4,
    "start_time": "2025-01-09T12:29:54.871Z"
   },
   {
    "duration": 21,
    "start_time": "2025-01-09T12:40:20.367Z"
   },
   {
    "duration": 39,
    "start_time": "2025-01-09T12:41:11.978Z"
   },
   {
    "duration": 49,
    "start_time": "2025-01-09T12:42:21.755Z"
   },
   {
    "duration": 343,
    "start_time": "2025-01-09T12:43:01.505Z"
   },
   {
    "duration": 5,
    "start_time": "2025-01-09T12:43:06.570Z"
   },
   {
    "duration": 415,
    "start_time": "2025-01-09T12:43:16.521Z"
   },
   {
    "duration": 5,
    "start_time": "2025-01-09T12:43:18.784Z"
   },
   {
    "duration": 642,
    "start_time": "2025-01-09T12:44:41.196Z"
   },
   {
    "duration": 653,
    "start_time": "2025-01-09T12:45:03.303Z"
   },
   {
    "duration": 839,
    "start_time": "2025-01-09T12:45:24.001Z"
   },
   {
    "duration": 2556,
    "start_time": "2025-01-09T12:50:14.646Z"
   },
   {
    "duration": 1579,
    "start_time": "2025-01-09T12:52:42.579Z"
   },
   {
    "duration": 3,
    "start_time": "2025-01-09T12:52:46.922Z"
   },
   {
    "duration": 3,
    "start_time": "2025-01-09T12:53:01.742Z"
   },
   {
    "duration": 172,
    "start_time": "2025-01-09T12:53:04.882Z"
   },
   {
    "duration": 18,
    "start_time": "2025-01-09T12:53:08.025Z"
   },
   {
    "duration": 52,
    "start_time": "2025-01-09T12:53:10.382Z"
   },
   {
    "duration": 35,
    "start_time": "2025-01-09T12:53:12.255Z"
   },
   {
    "duration": 33,
    "start_time": "2025-01-09T12:53:14.176Z"
   },
   {
    "duration": 46,
    "start_time": "2025-01-09T12:53:16.915Z"
   },
   {
    "duration": 755,
    "start_time": "2025-01-09T12:58:03.398Z"
   },
   {
    "duration": 902,
    "start_time": "2025-01-09T12:58:11.261Z"
   },
   {
    "duration": 348,
    "start_time": "2025-01-09T12:58:26.943Z"
   },
   {
    "duration": 813,
    "start_time": "2025-01-09T12:58:33.698Z"
   },
   {
    "duration": 901,
    "start_time": "2025-01-09T12:59:33.942Z"
   },
   {
    "duration": 155,
    "start_time": "2025-01-09T13:01:11.175Z"
   },
   {
    "duration": 17,
    "start_time": "2025-01-09T13:01:13.250Z"
   },
   {
    "duration": 50,
    "start_time": "2025-01-09T13:01:15.079Z"
   },
   {
    "duration": 27,
    "start_time": "2025-01-09T13:01:16.968Z"
   },
   {
    "duration": 31,
    "start_time": "2025-01-09T13:01:19.678Z"
   },
   {
    "duration": 40,
    "start_time": "2025-01-09T13:01:21.711Z"
   },
   {
    "duration": 741,
    "start_time": "2025-01-09T13:01:51.463Z"
   },
   {
    "duration": 9,
    "start_time": "2025-01-09T13:06:38.691Z"
   },
   {
    "duration": 7,
    "start_time": "2025-01-09T13:06:43.552Z"
   },
   {
    "duration": 191,
    "start_time": "2025-01-09T13:08:27.588Z"
   },
   {
    "duration": 208,
    "start_time": "2025-01-09T13:08:39.453Z"
   },
   {
    "duration": 1466,
    "start_time": "2025-01-09T13:10:50.327Z"
   },
   {
    "duration": 2,
    "start_time": "2025-01-09T13:10:51.795Z"
   },
   {
    "duration": 3,
    "start_time": "2025-01-09T13:10:54.479Z"
   },
   {
    "duration": 169,
    "start_time": "2025-01-09T13:10:55.043Z"
   },
   {
    "duration": 17,
    "start_time": "2025-01-09T13:10:55.419Z"
   },
   {
    "duration": 48,
    "start_time": "2025-01-09T13:10:55.799Z"
   },
   {
    "duration": 21,
    "start_time": "2025-01-09T13:10:57.167Z"
   },
   {
    "duration": 30,
    "start_time": "2025-01-09T13:10:57.577Z"
   },
   {
    "duration": 43,
    "start_time": "2025-01-09T13:10:57.989Z"
   },
   {
    "duration": 792,
    "start_time": "2025-01-09T13:10:58.438Z"
   },
   {
    "duration": 164,
    "start_time": "2025-01-09T13:11:01.815Z"
   },
   {
    "duration": 16,
    "start_time": "2025-01-09T13:11:02.700Z"
   },
   {
    "duration": 49,
    "start_time": "2025-01-09T13:11:04.336Z"
   },
   {
    "duration": 20,
    "start_time": "2025-01-09T13:11:05.941Z"
   },
   {
    "duration": 28,
    "start_time": "2025-01-09T13:11:07.442Z"
   },
   {
    "duration": 39,
    "start_time": "2025-01-09T13:11:09.379Z"
   },
   {
    "duration": 826,
    "start_time": "2025-01-09T13:11:12.066Z"
   },
   {
    "duration": 1032,
    "start_time": "2025-01-09T13:11:21.462Z"
   },
   {
    "duration": 864,
    "start_time": "2025-01-09T13:11:35.160Z"
   },
   {
    "duration": 13,
    "start_time": "2025-01-09T13:12:40.941Z"
   },
   {
    "duration": 236,
    "start_time": "2025-01-09T13:15:18.352Z"
   },
   {
    "duration": 214,
    "start_time": "2025-01-09T13:15:59.351Z"
   },
   {
    "duration": 157,
    "start_time": "2025-01-09T13:18:20.140Z"
   },
   {
    "duration": 18,
    "start_time": "2025-01-09T13:18:22.328Z"
   },
   {
    "duration": 52,
    "start_time": "2025-01-09T13:18:22.956Z"
   },
   {
    "duration": 24,
    "start_time": "2025-01-09T13:18:25.318Z"
   },
   {
    "duration": 32,
    "start_time": "2025-01-09T13:18:25.838Z"
   },
   {
    "duration": 43,
    "start_time": "2025-01-09T13:18:26.953Z"
   },
   {
    "duration": 795,
    "start_time": "2025-01-09T13:19:01.505Z"
   },
   {
    "duration": 1553,
    "start_time": "2025-01-15T16:32:42.231Z"
   },
   {
    "duration": 2,
    "start_time": "2025-01-15T16:32:43.786Z"
   },
   {
    "duration": 7,
    "start_time": "2025-01-15T16:32:43.790Z"
   },
   {
    "duration": 644,
    "start_time": "2025-01-15T16:32:43.799Z"
   },
   {
    "duration": 15,
    "start_time": "2025-01-15T16:32:44.445Z"
   },
   {
    "duration": 87,
    "start_time": "2025-01-15T16:32:44.462Z"
   },
   {
    "duration": 19,
    "start_time": "2025-01-15T16:32:44.551Z"
   },
   {
    "duration": 26,
    "start_time": "2025-01-15T16:32:44.572Z"
   },
   {
    "duration": 36,
    "start_time": "2025-01-15T16:32:44.600Z"
   },
   {
    "duration": 658,
    "start_time": "2025-01-15T16:32:44.639Z"
   },
   {
    "duration": 573,
    "start_time": "2025-01-15T16:32:45.299Z"
   },
   {
    "duration": 12,
    "start_time": "2025-01-15T16:32:45.873Z"
   },
   {
    "duration": 41,
    "start_time": "2025-01-15T16:32:45.887Z"
   },
   {
    "duration": 18,
    "start_time": "2025-01-15T16:32:45.929Z"
   },
   {
    "duration": 23,
    "start_time": "2025-01-15T16:32:45.948Z"
   },
   {
    "duration": 32,
    "start_time": "2025-01-15T16:32:45.987Z"
   },
   {
    "duration": 689,
    "start_time": "2025-01-15T16:32:46.020Z"
   },
   {
    "duration": 194,
    "start_time": "2025-01-15T16:32:46.710Z"
   },
   {
    "duration": 572,
    "start_time": "2025-01-15T16:32:46.905Z"
   },
   {
    "duration": 14,
    "start_time": "2025-01-15T16:32:47.479Z"
   },
   {
    "duration": 45,
    "start_time": "2025-01-15T16:32:47.494Z"
   },
   {
    "duration": 18,
    "start_time": "2025-01-15T16:32:47.541Z"
   },
   {
    "duration": 41,
    "start_time": "2025-01-15T16:32:47.561Z"
   },
   {
    "duration": 37,
    "start_time": "2025-01-15T16:32:47.604Z"
   },
   {
    "duration": 645,
    "start_time": "2025-01-15T16:32:47.643Z"
   },
   {
    "duration": 401,
    "start_time": "2025-01-15T16:32:48.290Z"
   },
   {
    "duration": 5,
    "start_time": "2025-01-15T16:32:48.693Z"
   },
   {
    "duration": 5,
    "start_time": "2025-01-15T16:32:48.786Z"
   },
   {
    "duration": 99,
    "start_time": "2025-01-15T16:32:48.793Z"
   },
   {
    "duration": 11,
    "start_time": "2025-01-15T16:32:48.893Z"
   },
   {
    "duration": 22,
    "start_time": "2025-01-15T16:32:48.905Z"
   },
   {
    "duration": 9,
    "start_time": "2025-01-15T16:32:48.928Z"
   },
   {
    "duration": 6,
    "start_time": "2025-01-15T16:32:48.939Z"
   },
   {
    "duration": 9,
    "start_time": "2025-01-15T16:32:48.947Z"
   },
   {
    "duration": 31,
    "start_time": "2025-01-15T16:32:48.958Z"
   },
   {
    "duration": 4,
    "start_time": "2025-01-15T16:32:48.990Z"
   },
   {
    "duration": 6,
    "start_time": "2025-01-15T16:32:48.996Z"
   },
   {
    "duration": 95,
    "start_time": "2025-01-15T16:32:49.004Z"
   },
   {
    "duration": 1396,
    "start_time": "2025-01-15T16:36:30.372Z"
   },
   {
    "duration": 2,
    "start_time": "2025-01-15T16:36:31.770Z"
   },
   {
    "duration": 36,
    "start_time": "2025-01-15T16:36:31.774Z"
   },
   {
    "duration": 211,
    "start_time": "2025-01-15T16:36:31.812Z"
   },
   {
    "duration": 13,
    "start_time": "2025-01-15T16:36:32.026Z"
   },
   {
    "duration": 52,
    "start_time": "2025-01-15T16:36:32.040Z"
   },
   {
    "duration": 18,
    "start_time": "2025-01-15T16:36:32.094Z"
   },
   {
    "duration": 56,
    "start_time": "2025-01-15T16:36:32.114Z"
   },
   {
    "duration": 45,
    "start_time": "2025-01-15T16:36:32.171Z"
   },
   {
    "duration": 126,
    "start_time": "2025-01-15T16:36:32.217Z"
   },
   {
    "duration": 12,
    "start_time": "2025-01-15T16:36:32.344Z"
   },
   {
    "duration": 49,
    "start_time": "2025-01-15T16:36:32.357Z"
   },
   {
    "duration": 30,
    "start_time": "2025-01-15T16:36:32.408Z"
   },
   {
    "duration": 35,
    "start_time": "2025-01-15T16:36:32.440Z"
   },
   {
    "duration": 99,
    "start_time": "2025-01-15T16:36:32.476Z"
   },
   {
    "duration": 125,
    "start_time": "2025-01-15T16:36:32.576Z"
   },
   {
    "duration": 12,
    "start_time": "2025-01-15T16:36:32.703Z"
   },
   {
    "duration": 41,
    "start_time": "2025-01-15T16:36:32.716Z"
   },
   {
    "duration": 35,
    "start_time": "2025-01-15T16:36:32.758Z"
   },
   {
    "duration": 22,
    "start_time": "2025-01-15T16:36:32.794Z"
   },
   {
    "duration": 37,
    "start_time": "2025-01-15T16:36:32.818Z"
   },
   {
    "duration": 432,
    "start_time": "2025-01-15T16:36:32.856Z"
   },
   {
    "duration": 3,
    "start_time": "2025-01-15T16:36:33.290Z"
   },
   {
    "duration": 99,
    "start_time": "2025-01-15T16:36:33.295Z"
   },
   {
    "duration": 101,
    "start_time": "2025-01-15T16:36:33.395Z"
   },
   {
    "duration": 27,
    "start_time": "2025-01-15T16:36:33.497Z"
   },
   {
    "duration": 16,
    "start_time": "2025-01-15T16:36:33.525Z"
   },
   {
    "duration": 36,
    "start_time": "2025-01-15T16:36:33.542Z"
   },
   {
    "duration": 7,
    "start_time": "2025-01-15T16:36:33.579Z"
   },
   {
    "duration": 10,
    "start_time": "2025-01-15T16:36:33.588Z"
   },
   {
    "duration": 13,
    "start_time": "2025-01-15T16:36:33.600Z"
   },
   {
    "duration": 5,
    "start_time": "2025-01-15T16:36:33.615Z"
   },
   {
    "duration": 68,
    "start_time": "2025-01-15T16:36:33.622Z"
   },
   {
    "duration": 96,
    "start_time": "2025-01-15T16:36:33.691Z"
   },
   {
    "duration": 336,
    "start_time": "2025-01-15T16:43:26.461Z"
   },
   {
    "duration": 4,
    "start_time": "2025-01-15T16:43:28.216Z"
   },
   {
    "duration": 370,
    "start_time": "2025-01-15T16:44:33.316Z"
   },
   {
    "duration": 5,
    "start_time": "2025-01-15T16:44:35.521Z"
   },
   {
    "duration": 333,
    "start_time": "2025-01-15T16:45:16.665Z"
   },
   {
    "duration": 4,
    "start_time": "2025-01-15T16:45:17.780Z"
   },
   {
    "duration": 5,
    "start_time": "2025-01-15T16:48:37.272Z"
   },
   {
    "duration": 3,
    "start_time": "2025-01-15T16:58:45.553Z"
   },
   {
    "duration": 4,
    "start_time": "2025-01-15T16:58:56.472Z"
   },
   {
    "duration": 4,
    "start_time": "2025-01-15T16:59:28.636Z"
   },
   {
    "duration": 3,
    "start_time": "2025-01-15T16:59:54.124Z"
   },
   {
    "duration": 2,
    "start_time": "2025-01-15T17:07:30.276Z"
   },
   {
    "duration": 4,
    "start_time": "2025-01-15T17:14:28.654Z"
   },
   {
    "duration": 4,
    "start_time": "2025-01-15T17:17:05.486Z"
   },
   {
    "duration": 3,
    "start_time": "2025-01-15T17:17:44.363Z"
   },
   {
    "duration": 4,
    "start_time": "2025-01-15T17:23:36.162Z"
   },
   {
    "duration": 3,
    "start_time": "2025-01-15T17:33:55.504Z"
   },
   {
    "duration": 4,
    "start_time": "2025-01-15T17:35:55.799Z"
   },
   {
    "duration": 360,
    "start_time": "2025-01-15T17:37:14.732Z"
   },
   {
    "duration": 5,
    "start_time": "2025-01-15T17:37:18.365Z"
   },
   {
    "duration": 369,
    "start_time": "2025-01-15T17:39:18.620Z"
   },
   {
    "duration": 398,
    "start_time": "2025-01-15T17:40:08.191Z"
   },
   {
    "duration": 13,
    "start_time": "2025-01-15T17:40:27.632Z"
   },
   {
    "duration": 13,
    "start_time": "2025-01-15T17:40:46.990Z"
   },
   {
    "duration": 9,
    "start_time": "2025-01-15T17:41:08.908Z"
   },
   {
    "duration": 8,
    "start_time": "2025-01-15T17:41:22.531Z"
   },
   {
    "duration": 6,
    "start_time": "2025-01-15T17:41:33.987Z"
   },
   {
    "duration": 8,
    "start_time": "2025-01-15T17:42:15.866Z"
   },
   {
    "duration": 7,
    "start_time": "2025-01-15T17:44:59.444Z"
   },
   {
    "duration": 13,
    "start_time": "2025-01-15T17:45:02.869Z"
   },
   {
    "duration": 218,
    "start_time": "2025-01-15T18:17:36.722Z"
   },
   {
    "duration": 219,
    "start_time": "2025-01-15T18:17:47.733Z"
   },
   {
    "duration": 219,
    "start_time": "2025-01-15T18:17:57.040Z"
   },
   {
    "duration": 323,
    "start_time": "2025-01-15T18:18:55.737Z"
   },
   {
    "duration": 3384,
    "start_time": "2025-01-15T18:19:00.178Z"
   },
   {
    "duration": 3329,
    "start_time": "2025-01-15T18:19:11.982Z"
   },
   {
    "duration": 12,
    "start_time": "2025-01-15T18:19:38.957Z"
   },
   {
    "duration": 6,
    "start_time": "2025-01-15T18:20:23.243Z"
   },
   {
    "duration": 4,
    "start_time": "2025-01-15T18:21:24.795Z"
   },
   {
    "duration": 335,
    "start_time": "2025-01-15T18:24:45.396Z"
   },
   {
    "duration": 309,
    "start_time": "2025-01-15T18:24:58.753Z"
   },
   {
    "duration": 307,
    "start_time": "2025-01-15T18:25:10.056Z"
   },
   {
    "duration": 321,
    "start_time": "2025-01-15T18:26:20.735Z"
   },
   {
    "duration": 3,
    "start_time": "2025-01-15T18:26:35.724Z"
   },
   {
    "duration": 308,
    "start_time": "2025-01-15T18:26:36.608Z"
   },
   {
    "duration": 3,
    "start_time": "2025-01-15T18:31:13.056Z"
   },
   {
    "duration": 888,
    "start_time": "2025-01-15T18:32:38.420Z"
   },
   {
    "duration": 3,
    "start_time": "2025-01-15T18:35:21.458Z"
   },
   {
    "duration": 8,
    "start_time": "2025-01-15T18:37:13.893Z"
   },
   {
    "duration": 8,
    "start_time": "2025-01-15T18:37:22.807Z"
   },
   {
    "duration": 6,
    "start_time": "2025-01-15T18:37:37.306Z"
   },
   {
    "duration": 3,
    "start_time": "2025-01-15T18:38:31.403Z"
   },
   {
    "duration": 9,
    "start_time": "2025-01-15T18:43:24.166Z"
   },
   {
    "duration": 8,
    "start_time": "2025-01-15T18:43:39.000Z"
   },
   {
    "duration": 3,
    "start_time": "2025-01-15T18:44:23.978Z"
   },
   {
    "duration": 929,
    "start_time": "2025-01-15T18:44:26.919Z"
   },
   {
    "duration": 9,
    "start_time": "2025-01-15T18:44:31.823Z"
   },
   {
    "duration": 11,
    "start_time": "2025-01-15T18:45:25.667Z"
   },
   {
    "duration": 9,
    "start_time": "2025-01-15T18:45:32.791Z"
   },
   {
    "duration": 9,
    "start_time": "2025-01-15T18:45:47.709Z"
   },
   {
    "duration": 1986,
    "start_time": "2025-01-16T09:41:52.778Z"
   },
   {
    "duration": 3,
    "start_time": "2025-01-16T09:41:56.600Z"
   },
   {
    "duration": 3,
    "start_time": "2025-01-16T09:41:58.806Z"
   },
   {
    "duration": 621,
    "start_time": "2025-01-16T09:42:00.648Z"
   },
   {
    "duration": 19,
    "start_time": "2025-01-16T09:42:03.967Z"
   },
   {
    "duration": 56,
    "start_time": "2025-01-16T09:42:06.254Z"
   },
   {
    "duration": 23,
    "start_time": "2025-01-16T09:42:08.376Z"
   },
   {
    "duration": 32,
    "start_time": "2025-01-16T09:42:10.287Z"
   },
   {
    "duration": 45,
    "start_time": "2025-01-16T09:42:12.475Z"
   },
   {
    "duration": 607,
    "start_time": "2025-01-16T09:42:14.878Z"
   },
   {
    "duration": 17,
    "start_time": "2025-01-16T09:42:18.190Z"
   },
   {
    "duration": 51,
    "start_time": "2025-01-16T09:42:20.137Z"
   },
   {
    "duration": 26,
    "start_time": "2025-01-16T09:42:22.131Z"
   },
   {
    "duration": 35,
    "start_time": "2025-01-16T09:42:23.689Z"
   },
   {
    "duration": 45,
    "start_time": "2025-01-16T09:42:25.632Z"
   },
   {
    "duration": 618,
    "start_time": "2025-01-16T09:42:27.450Z"
   },
   {
    "duration": 17,
    "start_time": "2025-01-16T09:42:30.020Z"
   },
   {
    "duration": 1561,
    "start_time": "2025-01-16T09:42:31.911Z"
   },
   {
    "duration": 26,
    "start_time": "2025-01-16T09:42:35.549Z"
   },
   {
    "duration": 32,
    "start_time": "2025-01-16T09:42:37.795Z"
   },
   {
    "duration": 44,
    "start_time": "2025-01-16T09:42:40.485Z"
   },
   {
    "duration": 514,
    "start_time": "2025-01-16T09:43:24.062Z"
   },
   {
    "duration": 6,
    "start_time": "2025-01-16T09:43:27.164Z"
   },
   {
    "duration": 3,
    "start_time": "2025-01-16T09:43:41.641Z"
   },
   {
    "duration": 4,
    "start_time": "2025-01-16T09:44:09.906Z"
   },
   {
    "duration": 7,
    "start_time": "2025-01-16T09:46:19.960Z"
   },
   {
    "duration": 8,
    "start_time": "2025-01-16T09:46:34.363Z"
   },
   {
    "duration": 3,
    "start_time": "2025-01-16T09:49:34.431Z"
   },
   {
    "duration": 60,
    "start_time": "2025-01-16T09:52:34.497Z"
   },
   {
    "duration": 65,
    "start_time": "2025-01-16T09:53:22.672Z"
   },
   {
    "duration": 125,
    "start_time": "2025-01-16T09:55:53.812Z"
   },
   {
    "duration": 61,
    "start_time": "2025-01-16T09:56:08.241Z"
   },
   {
    "duration": 27,
    "start_time": "2025-01-16T09:56:54.517Z"
   },
   {
    "duration": 6,
    "start_time": "2025-01-16T09:57:16.847Z"
   },
   {
    "duration": 7,
    "start_time": "2025-01-16T09:57:19.820Z"
   },
   {
    "duration": 24,
    "start_time": "2025-01-16T09:59:22.784Z"
   },
   {
    "duration": 5,
    "start_time": "2025-01-16T10:00:54.873Z"
   },
   {
    "duration": 9,
    "start_time": "2025-01-16T10:01:18.906Z"
   },
   {
    "duration": 9,
    "start_time": "2025-01-16T10:01:27.519Z"
   },
   {
    "duration": 9,
    "start_time": "2025-01-16T10:01:33.499Z"
   },
   {
    "duration": 8,
    "start_time": "2025-01-16T10:01:38.618Z"
   },
   {
    "duration": 11,
    "start_time": "2025-01-16T10:02:37.463Z"
   },
   {
    "duration": 18,
    "start_time": "2025-01-16T10:03:15.148Z"
   },
   {
    "duration": 17,
    "start_time": "2025-01-16T10:03:45.310Z"
   },
   {
    "duration": 4,
    "start_time": "2025-01-16T10:05:44.603Z"
   },
   {
    "duration": 1268,
    "start_time": "2025-01-16T10:05:50.071Z"
   },
   {
    "duration": 3,
    "start_time": "2025-01-16T10:06:00.061Z"
   },
   {
    "duration": 17,
    "start_time": "2025-01-16T10:06:01.652Z"
   },
   {
    "duration": 4,
    "start_time": "2025-01-16T10:10:28.497Z"
   },
   {
    "duration": 84,
    "start_time": "2025-01-16T10:11:17.601Z"
   },
   {
    "duration": 4,
    "start_time": "2025-01-16T10:11:31.528Z"
   },
   {
    "duration": 2108,
    "start_time": "2025-01-16T10:11:55.058Z"
   },
   {
    "duration": 3,
    "start_time": "2025-01-16T10:12:04.842Z"
   },
   {
    "duration": 12,
    "start_time": "2025-01-16T10:12:06.880Z"
   }
  ],
  "kernelspec": {
   "display_name": "Python 3 (ipykernel)",
   "language": "python",
   "name": "python3"
  },
  "language_info": {
   "codemirror_mode": {
    "name": "ipython",
    "version": 3
   },
   "file_extension": ".py",
   "mimetype": "text/x-python",
   "name": "python",
   "nbconvert_exporter": "python",
   "pygments_lexer": "ipython3",
   "version": "3.9.5"
  },
  "toc": {
   "base_numbering": 1,
   "nav_menu": {},
   "number_sections": true,
   "sideBar": true,
   "skip_h1_title": true,
   "title_cell": "Table of Contents",
   "title_sidebar": "Contents",
   "toc_cell": false,
   "toc_position": {},
   "toc_section_display": true,
   "toc_window_display": false
  }
 },
 "nbformat": 4,
 "nbformat_minor": 2
}
